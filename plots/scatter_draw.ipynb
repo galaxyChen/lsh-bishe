{
 "cells": [
  {
   "cell_type": "code",
   "execution_count": 1,
   "id": "1dd49547-31d8-4ae4-babc-3ecd73768d3c",
   "metadata": {
    "scrolled": true,
    "tags": []
   },
   "outputs": [
    {
     "name": "stderr",
     "output_type": "stream",
     "text": [
      "Duplicate key in file PosixPath('/home/lsh/anaconda3/lib/python3.9/site-packages/matplotlib/mpl-data/matplotlibrc'), line 265 ('font.serif:      DejaVu Serif, Bitstream Vera Serif, Computer Modern Roman, New Century Schoolbook, Century Schoolbook L, Utopia, ITC Bookman, Bookman, Nimbus Roman No9 L, Times New Roman, Times, Palatino, Charter, serif')\n",
      "Duplicate key in file PosixPath('/home/lsh/anaconda3/lib/python3.9/site-packages/matplotlib/mpl-data/matplotlibrc'), line 334 ('mathtext.fontset:  stix')\n"
     ]
    },
    {
     "name": "stdout",
     "output_type": "stream",
     "text": [
      "read data from genome_list.tsv\n",
      "[1, 266, 13468, 21555, 21563, 25384, 25393, 26220, 26245, 26472, 26523, 27191, 27202, 27387, 27394, 27759, 27894, 28259, 28274, 29533, 29558, 29674, 30000] 23 [\"5'UTR\", 'orf1a', 'orf1b', 'NCR', 'S', 'NCR', 'ORF3a', 'NCR', 'E', 'NCR', 'M', 'NCR', 'ORF6', 'NCR', 'ORF7a', 'NCR', 'ORF8', 'NCR', 'N', 'NCR', 'ORF10', \"3'UTR\"] 22 11\n",
      "reading data grouped by month and continent\n"
     ]
    },
    {
     "name": "stderr",
     "output_type": "stream",
     "text": [
      "  1%|█▋                                                                                                                                                                                                    | 1/118 [00:00<00:20,  5.71it/s]"
     ]
    },
    {
     "name": "stdout",
     "output_type": "stream",
     "text": [
      "South America-202004.tsv\n",
      "Europe-202107.tsv\n"
     ]
    },
    {
     "name": "stderr",
     "output_type": "stream",
     "text": [
      "  2%|███▎                                                                                                                                                                                                  | 2/118 [00:04<04:44,  2.45s/it]"
     ]
    },
    {
     "name": "stdout",
     "output_type": "stream",
     "text": [
      "South America-202104.tsv\n"
     ]
    },
    {
     "name": "stderr",
     "output_type": "stream",
     "text": [
      "  3%|█████                                                                                                                                                                                                 | 3/118 [00:05<03:27,  1.81s/it]"
     ]
    },
    {
     "name": "stdout",
     "output_type": "stream",
     "text": [
      "Europe-202003.tsv\n"
     ]
    },
    {
     "name": "stderr",
     "output_type": "stream",
     "text": [
      "  3%|██████▋                                                                                                                                                                                               | 4/118 [00:06<02:40,  1.41s/it]"
     ]
    },
    {
     "name": "stdout",
     "output_type": "stream",
     "text": [
      "North America-202004.tsv\n"
     ]
    },
    {
     "name": "stderr",
     "output_type": "stream",
     "text": [
      "  4%|████████▍                                                                                                                                                                                             | 5/118 [00:06<02:12,  1.17s/it]"
     ]
    },
    {
     "name": "stdout",
     "output_type": "stream",
     "text": [
      "South America-202010.tsv\n"
     ]
    },
    {
     "name": "stderr",
     "output_type": "stream",
     "text": [
      "  6%|███████████▋                                                                                                                                                                                          | 7/118 [00:07<01:11,  1.56it/s]"
     ]
    },
    {
     "name": "stdout",
     "output_type": "stream",
     "text": [
      "Africa-202102.tsv\n",
      "South America-202003.tsv\n"
     ]
    },
    {
     "name": "stderr",
     "output_type": "stream",
     "text": [
      "  7%|█████████████▍                                                                                                                                                                                        | 8/118 [00:07<00:51,  2.12it/s]"
     ]
    },
    {
     "name": "stdout",
     "output_type": "stream",
     "text": [
      "Oceania-202007.tsv\n"
     ]
    },
    {
     "name": "stderr",
     "output_type": "stream",
     "text": [
      "  8%|███████████████                                                                                                                                                                                       | 9/118 [00:07<00:43,  2.49it/s]"
     ]
    },
    {
     "name": "stdout",
     "output_type": "stream",
     "text": [
      "Asia-202007.tsv\n"
     ]
    },
    {
     "name": "stderr",
     "output_type": "stream",
     "text": [
      "  8%|████████████████▋                                                                                                                                                                                    | 10/118 [00:08<00:47,  2.28it/s]"
     ]
    },
    {
     "name": "stdout",
     "output_type": "stream",
     "text": [
      "North America-202007.tsv\n"
     ]
    },
    {
     "name": "stderr",
     "output_type": "stream",
     "text": [
      "  9%|██████████████████▎                                                                                                                                                                                  | 11/118 [00:09<01:01,  1.73it/s]"
     ]
    },
    {
     "name": "stdout",
     "output_type": "stream",
     "text": [
      "Asia-202105.tsv\n"
     ]
    },
    {
     "name": "stderr",
     "output_type": "stream",
     "text": [
      " 10%|████████████████████                                                                                                                                                                                 | 12/118 [00:10<01:31,  1.16it/s]"
     ]
    },
    {
     "name": "stdout",
     "output_type": "stream",
     "text": [
      "Asia-202011.tsv\n"
     ]
    },
    {
     "name": "stderr",
     "output_type": "stream",
     "text": [
      " 11%|█████████████████████▋                                                                                                                                                                               | 13/118 [00:11<01:24,  1.24it/s]"
     ]
    },
    {
     "name": "stdout",
     "output_type": "stream",
     "text": [
      "Asia-202006.tsv\n"
     ]
    },
    {
     "name": "stderr",
     "output_type": "stream",
     "text": [
      " 12%|███████████████████████▎                                                                                                                                                                             | 14/118 [00:11<01:13,  1.41it/s]"
     ]
    },
    {
     "name": "stdout",
     "output_type": "stream",
     "text": [
      "North America-202104.tsv\n"
     ]
    },
    {
     "name": "stderr",
     "output_type": "stream",
     "text": [
      " 13%|█████████████████████████                                                                                                                                                                            | 15/118 [00:15<02:38,  1.54s/it]"
     ]
    },
    {
     "name": "stdout",
     "output_type": "stream",
     "text": [
      "South America-202103.tsv\n"
     ]
    },
    {
     "name": "stderr",
     "output_type": "stream",
     "text": [
      " 14%|██████████████████████████▋                                                                                                                                                                          | 16/118 [00:15<02:09,  1.27s/it]"
     ]
    },
    {
     "name": "stdout",
     "output_type": "stream",
     "text": [
      "Europe-202007.tsv\n"
     ]
    },
    {
     "name": "stderr",
     "output_type": "stream",
     "text": [
      " 14%|████████████████████████████▍                                                                                                                                                                        | 17/118 [00:16<01:46,  1.06s/it]"
     ]
    },
    {
     "name": "stdout",
     "output_type": "stream",
     "text": [
      "South America-202002.tsv\n",
      "North America-202108.tsv\n"
     ]
    },
    {
     "name": "stderr",
     "output_type": "stream",
     "text": [
      " 16%|███████████████████████████████▋                                                                                                                                                                     | 19/118 [00:20<02:25,  1.47s/it]"
     ]
    },
    {
     "name": "stdout",
     "output_type": "stream",
     "text": [
      "Asia-202009.tsv\n"
     ]
    },
    {
     "name": "stderr",
     "output_type": "stream",
     "text": [
      " 19%|████████████████████████████████████▋                                                                                                                                                                | 22/118 [00:20<01:12,  1.32it/s]"
     ]
    },
    {
     "name": "stdout",
     "output_type": "stream",
     "text": [
      "Oceania-202102.tsv\n",
      "Europe-202002.tsv\n",
      "Europe-202004.tsv\n"
     ]
    },
    {
     "name": "stderr",
     "output_type": "stream",
     "text": [
      " 19%|██████████████████████████████████████▍                                                                                                                                                              | 23/118 [00:21<01:15,  1.25it/s]"
     ]
    },
    {
     "name": "stdout",
     "output_type": "stream",
     "text": [
      "Europe-202012.tsv\n"
     ]
    },
    {
     "name": "stderr",
     "output_type": "stream",
     "text": [
      " 20%|████████████████████████████████████████                                                                                                                                                             | 24/118 [00:24<01:46,  1.13s/it]"
     ]
    },
    {
     "name": "stdout",
     "output_type": "stream",
     "text": [
      "Africa-202002.tsv\n",
      "North America-202003.tsv\n"
     ]
    },
    {
     "name": "stderr",
     "output_type": "stream",
     "text": [
      " 23%|█████████████████████████████████████████████                                                                                                                                                        | 27/118 [00:24<00:59,  1.54it/s]"
     ]
    },
    {
     "name": "stdout",
     "output_type": "stream",
     "text": [
      "Africa-202103.tsv\n",
      "Europe-202009.tsv\n"
     ]
    },
    {
     "name": "stderr",
     "output_type": "stream",
     "text": [
      " 24%|██████████████████████████████████████████████▋                                                                                                                                                      | 28/118 [00:26<01:09,  1.30it/s]"
     ]
    },
    {
     "name": "stdout",
     "output_type": "stream",
     "text": [
      "Asia-202104.tsv\n"
     ]
    },
    {
     "name": "stderr",
     "output_type": "stream",
     "text": [
      " 25%|████████████████████████████████████████████████▍                                                                                                                                                    | 29/118 [00:27<01:25,  1.05it/s]"
     ]
    },
    {
     "name": "stdout",
     "output_type": "stream",
     "text": [
      "Oceania-202106.tsv\n",
      "North America-202103.tsv\n"
     ]
    },
    {
     "name": "stderr",
     "output_type": "stream",
     "text": [
      " 27%|█████████████████████████████████████████████████████▍                                                                                                                                               | 32/118 [00:30<01:15,  1.14it/s]"
     ]
    },
    {
     "name": "stdout",
     "output_type": "stream",
     "text": [
      "Oceania-202009.tsv\n",
      "Asia-202101.tsv\n"
     ]
    },
    {
     "name": "stderr",
     "output_type": "stream",
     "text": [
      " 28%|███████████████████████████████████████████████████████                                                                                                                                              | 33/118 [00:31<01:20,  1.05it/s]"
     ]
    },
    {
     "name": "stdout",
     "output_type": "stream",
     "text": [
      "South America-202102.tsv\n"
     ]
    },
    {
     "name": "stderr",
     "output_type": "stream",
     "text": [
      " 30%|██████████████████████████████████████████████████████████▍                                                                                                                                          | 35/118 [00:32<00:52,  1.59it/s]"
     ]
    },
    {
     "name": "stdout",
     "output_type": "stream",
     "text": [
      "Africa-202006.tsv\n",
      "South America-202005.tsv\n"
     ]
    },
    {
     "name": "stderr",
     "output_type": "stream",
     "text": [
      " 31%|████████████████████████████████████████████████████████████                                                                                                                                         | 36/118 [00:32<00:41,  1.98it/s]"
     ]
    },
    {
     "name": "stdout",
     "output_type": "stream",
     "text": [
      "Asia-202102.tsv\n"
     ]
    },
    {
     "name": "stderr",
     "output_type": "stream",
     "text": [
      " 32%|███████████████████████████████████████████████████████████████▍                                                                                                                                     | 38/118 [00:33<00:40,  1.97it/s]"
     ]
    },
    {
     "name": "stdout",
     "output_type": "stream",
     "text": [
      "Africa-202008.tsv\n",
      "Asia-202005.tsv\n"
     ]
    },
    {
     "name": "stderr",
     "output_type": "stream",
     "text": [
      " 33%|█████████████████████████████████████████████████████████████████                                                                                                                                    | 39/118 [00:33<00:39,  2.00it/s]"
     ]
    },
    {
     "name": "stdout",
     "output_type": "stream",
     "text": [
      "North America-202106.tsv\n"
     ]
    },
    {
     "name": "stderr",
     "output_type": "stream",
     "text": [
      " 35%|████████████████████████████████████████████████████████████████████▍                                                                                                                                | 41/118 [00:36<00:57,  1.35it/s]"
     ]
    },
    {
     "name": "stdout",
     "output_type": "stream",
     "text": [
      "Africa-202009.tsv\n",
      "Europe-202101.tsv\n"
     ]
    },
    {
     "name": "stderr",
     "output_type": "stream",
     "text": [
      " 36%|██████████████████████████████████████████████████████████████████████                                                                                                                               | 42/118 [00:39<01:46,  1.40s/it]"
     ]
    },
    {
     "name": "stdout",
     "output_type": "stream",
     "text": [
      "Africa-202105.tsv\n"
     ]
    },
    {
     "name": "stderr",
     "output_type": "stream",
     "text": [
      " 38%|███████████████████████████████████████████████████████████████████████████▏                                                                                                                         | 45/118 [00:39<00:44,  1.64it/s]"
     ]
    },
    {
     "name": "stdout",
     "output_type": "stream",
     "text": [
      "Africa-202004.tsv\n",
      "Oceania-202010.tsv\n",
      "North America-202012.tsv\n"
     ]
    },
    {
     "name": "stderr",
     "output_type": "stream",
     "text": [
      " 39%|████████████████████████████████████████████████████████████████████████████▊                                                                                                                        | 46/118 [00:41<01:02,  1.16it/s]"
     ]
    },
    {
     "name": "stdout",
     "output_type": "stream",
     "text": [
      "Africa-202007.tsv\n"
     ]
    },
    {
     "name": "stderr",
     "output_type": "stream",
     "text": [
      " 42%|█████████████████████████████████████████████████████████████████████████████████▊                                                                                                                   | 49/118 [00:41<00:30,  2.28it/s]"
     ]
    },
    {
     "name": "stdout",
     "output_type": "stream",
     "text": [
      "Oceania-202006.tsv\n",
      "Oceania-202011.tsv\n",
      "Oceania-202108.tsv\n"
     ]
    },
    {
     "name": "stderr",
     "output_type": "stream",
     "text": [
      " 42%|███████████████████████████████████████████████████████████████████████████████████▍                                                                                                                 | 50/118 [00:41<00:25,  2.71it/s]"
     ]
    },
    {
     "name": "stdout",
     "output_type": "stream",
     "text": [
      "Asia-202012.tsv\n"
     ]
    },
    {
     "name": "stderr",
     "output_type": "stream",
     "text": [
      " 44%|██████████████████████████████████████████████████████████████████████████████████████▊                                                                                                              | 52/118 [00:42<00:27,  2.44it/s]"
     ]
    },
    {
     "name": "stdout",
     "output_type": "stream",
     "text": [
      "Asia-202002.tsv\n",
      "Africa-202003.tsv\n",
      "Oceania-202012.tsv\n"
     ]
    },
    {
     "name": "stderr",
     "output_type": "stream",
     "text": [
      " 46%|██████████████████████████████████████████████████████████████████████████████████████████▏                                                                                                          | 54/118 [00:42<00:17,  3.69it/s]"
     ]
    },
    {
     "name": "stdout",
     "output_type": "stream",
     "text": [
      "Europe-202103.tsv\n"
     ]
    },
    {
     "name": "stderr",
     "output_type": "stream",
     "text": [
      " 47%|███████████████████████████████████████████████████████████████████████████████████████████▊                                                                                                         | 55/118 [00:47<01:15,  1.19s/it]"
     ]
    },
    {
     "name": "stdout",
     "output_type": "stream",
     "text": [
      "Africa-202012.tsv\n"
     ]
    },
    {
     "name": "stderr",
     "output_type": "stream",
     "text": [
      " 48%|███████████████████████████████████████████████████████████████████████████████████████████████▏                                                                                                     | 57/118 [00:47<00:46,  1.32it/s]"
     ]
    },
    {
     "name": "stdout",
     "output_type": "stream",
     "text": [
      "Oceania-202104.tsv\n",
      "Africa-202108.tsv\n"
     ]
    },
    {
     "name": "stderr",
     "output_type": "stream",
     "text": [
      " 49%|████████████████████████████████████████████████████████████████████████████████████████████████▊                                                                                                    | 58/118 [00:47<00:36,  1.64it/s]"
     ]
    },
    {
     "name": "stdout",
     "output_type": "stream",
     "text": [
      "North America-202001.tsv\n",
      "Oceania-202001.tsv\n",
      "North America-202101.tsv\n"
     ]
    },
    {
     "name": "stderr",
     "output_type": "stream",
     "text": [
      " 52%|█████████████████████████████████████████████████████████████████████████████████████████████████████▊                                                                                               | 61/118 [00:50<00:38,  1.49it/s]"
     ]
    },
    {
     "name": "stdout",
     "output_type": "stream",
     "text": [
      "Asia-202010.tsv\n"
     ]
    },
    {
     "name": "stderr",
     "output_type": "stream",
     "text": [
      " 53%|███████████████████████████████████████████████████████████████████████████████████████████████████████▌                                                                                             | 62/118 [00:50<00:35,  1.56it/s]"
     ]
    },
    {
     "name": "stdout",
     "output_type": "stream",
     "text": [
      "Asia-202107.tsv\n"
     ]
    },
    {
     "name": "stderr",
     "output_type": "stream",
     "text": [
      " 53%|█████████████████████████████████████████████████████████████████████████████████████████████████████████▏                                                                                           | 63/118 [00:51<00:44,  1.24it/s]"
     ]
    },
    {
     "name": "stdout",
     "output_type": "stream",
     "text": [
      "South America-202009.tsv\n"
     ]
    },
    {
     "name": "stderr",
     "output_type": "stream",
     "text": [
      " 54%|██████████████████████████████████████████████████████████████████████████████████████████████████████████▊                                                                                          | 64/118 [00:52<00:36,  1.49it/s]"
     ]
    },
    {
     "name": "stdout",
     "output_type": "stream",
     "text": [
      "Europe-202011.tsv\n"
     ]
    },
    {
     "name": "stderr",
     "output_type": "stream",
     "text": [
      " 55%|████████████████████████████████████████████████████████████████████████████████████████████████████████████▌                                                                                        | 65/118 [00:54<00:52,  1.01it/s]"
     ]
    },
    {
     "name": "stdout",
     "output_type": "stream",
     "text": [
      "Europe-202006.tsv\n"
     ]
    },
    {
     "name": "stderr",
     "output_type": "stream",
     "text": [
      " 56%|██████████████████████████████████████████████████████████████████████████████████████████████████████████████▏                                                                                      | 66/118 [00:54<00:47,  1.11it/s]"
     ]
    },
    {
     "name": "stdout",
     "output_type": "stream",
     "text": [
      "Asia-202004.tsv\n"
     ]
    },
    {
     "name": "stderr",
     "output_type": "stream",
     "text": [
      " 57%|███████████████████████████████████████████████████████████████████████████████████████████████████████████████▊                                                                                     | 67/118 [00:55<00:38,  1.31it/s]"
     ]
    },
    {
     "name": "stdout",
     "output_type": "stream",
     "text": [
      "North America-202002.tsv\n",
      "Africa-202101.tsv\n"
     ]
    },
    {
     "name": "stderr",
     "output_type": "stream",
     "text": [
      " 58%|███████████████████████████████████████████████████████████████████████████████████████████████████████████████████▏                                                                                 | 69/118 [00:55<00:25,  1.96it/s]"
     ]
    },
    {
     "name": "stdout",
     "output_type": "stream",
     "text": [
      "South America-202105.tsv\n"
     ]
    },
    {
     "name": "stderr",
     "output_type": "stream",
     "text": [
      " 59%|████████████████████████████████████████████████████████████████████████████████████████████████████████████████████▊                                                                                | 70/118 [00:56<00:31,  1.54it/s]"
     ]
    },
    {
     "name": "stdout",
     "output_type": "stream",
     "text": [
      "Europe-202105.tsv\n"
     ]
    },
    {
     "name": "stderr",
     "output_type": "stream",
     "text": [
      " 61%|████████████████████████████████████████████████████████████████████████████████████████████████████████████████████████▏                                                                            | 72/118 [01:00<00:49,  1.07s/it]"
     ]
    },
    {
     "name": "stdout",
     "output_type": "stream",
     "text": [
      "Oceania-202101.tsv\n",
      "North America-202107.tsv\n"
     ]
    },
    {
     "name": "stderr",
     "output_type": "stream",
     "text": [
      " 62%|█████████████████████████████████████████████████████████████████████████████████████████████████████████████████████████▊                                                                           | 73/118 [01:03<01:13,  1.63s/it]"
     ]
    },
    {
     "name": "stdout",
     "output_type": "stream",
     "text": [
      "Oceania-202002.tsv\n",
      "South America-202106.tsv\n"
     ]
    },
    {
     "name": "stderr",
     "output_type": "stream",
     "text": [
      " 64%|█████████████████████████████████████████████████████████████████████████████████████████████████████████████████████████████▏                                                                       | 75/118 [01:04<00:49,  1.16s/it]"
     ]
    },
    {
     "name": "stdout",
     "output_type": "stream",
     "text": [
      "Africa-202107.tsv\n"
     ]
    },
    {
     "name": "stderr",
     "output_type": "stream",
     "text": [
      " 64%|██████████████████████████████████████████████████████████████████████████████████████████████████████████████████████████████▉                                                                      | 76/118 [01:04<00:39,  1.05it/s]"
     ]
    },
    {
     "name": "stdout",
     "output_type": "stream",
     "text": [
      "North America-202006.tsv\n"
     ]
    },
    {
     "name": "stderr",
     "output_type": "stream",
     "text": [
      " 65%|████████████████████████████████████████████████████████████████████████████████████████████████████████████████████████████████▌                                                                    | 77/118 [01:05<00:37,  1.10it/s]"
     ]
    },
    {
     "name": "stdout",
     "output_type": "stream",
     "text": [
      "North America-202008.tsv\n"
     ]
    },
    {
     "name": "stderr",
     "output_type": "stream",
     "text": [
      " 67%|███████████████████████████████████████████████████████████████████████████████████████████████████████████████████████████████████▉                                                                 | 79/118 [01:06<00:26,  1.47it/s]"
     ]
    },
    {
     "name": "stdout",
     "output_type": "stream",
     "text": [
      "Oceania-202103.tsv\n",
      "Africa-202010.tsv\n"
     ]
    },
    {
     "name": "stderr",
     "output_type": "stream",
     "text": [
      " 70%|██████████████████████████████████████████████████████████████████████████████████████████████████████████████████████████████████████████▌                                                          | 83/118 [01:06<00:09,  3.83it/s]"
     ]
    },
    {
     "name": "stdout",
     "output_type": "stream",
     "text": [
      "Asia-202001.tsv\n",
      "Europe-202001.tsv\n",
      "Oceania-202005.tsv\n",
      "South America-202108.tsv\n",
      "Asia-202106.tsv\n"
     ]
    },
    {
     "name": "stderr",
     "output_type": "stream",
     "text": [
      " 72%|█████████████████████████████████████████████████████████████████████████████████████████████████████████████████████████████████████████████▉                                                       | 85/118 [01:09<00:18,  1.78it/s]"
     ]
    },
    {
     "name": "stdout",
     "output_type": "stream",
     "text": [
      "North America-202009.tsv\n"
     ]
    },
    {
     "name": "stderr",
     "output_type": "stream",
     "text": [
      " 73%|███████████████████████████████████████████████████████████████████████████████████████████████████████████████████████████████████████████████▌                                                     | 86/118 [01:09<00:19,  1.65it/s]"
     ]
    },
    {
     "name": "stdout",
     "output_type": "stream",
     "text": [
      "North America-202105.tsv\n"
     ]
    },
    {
     "name": "stderr",
     "output_type": "stream",
     "text": [
      " 74%|█████████████████████████████████████████████████████████████████████████████████████████████████████████████████████████████████████████████████▏                                                   | 87/118 [01:12<00:33,  1.07s/it]"
     ]
    },
    {
     "name": "stdout",
     "output_type": "stream",
     "text": [
      "North America-202010.tsv\n"
     ]
    },
    {
     "name": "stderr",
     "output_type": "stream",
     "text": [
      " 75%|██████████████████████████████████████████████████████████████████████████████████████████████████████████████████████████████████████████████████▉                                                  | 88/118 [01:13<00:31,  1.05s/it]"
     ]
    },
    {
     "name": "stdout",
     "output_type": "stream",
     "text": [
      "Europe-202008.tsv\n"
     ]
    },
    {
     "name": "stderr",
     "output_type": "stream",
     "text": [
      " 75%|████████████████████████████████████████████████████████████████████████████████████████████████████████████████████████████████████████████████████▌                                                | 89/118 [01:14<00:28,  1.01it/s]"
     ]
    },
    {
     "name": "stdout",
     "output_type": "stream",
     "text": [
      "Asia-202003.tsv\n"
     ]
    },
    {
     "name": "stderr",
     "output_type": "stream",
     "text": [
      " 76%|██████████████████████████████████████████████████████████████████████████████████████████████████████████████████████████████████████████████████████▎                                              | 90/118 [01:14<00:22,  1.25it/s]"
     ]
    },
    {
     "name": "stdout",
     "output_type": "stream",
     "text": [
      "South America-202006.tsv\n"
     ]
    },
    {
     "name": "stderr",
     "output_type": "stream",
     "text": [
      " 77%|███████████████████████████████████████████████████████████████████████████████████████████████████████████████████████████████████████████████████████▉                                             | 91/118 [01:14<00:17,  1.57it/s]"
     ]
    },
    {
     "name": "stdout",
     "output_type": "stream",
     "text": [
      "Europe-202104.tsv\n"
     ]
    },
    {
     "name": "stderr",
     "output_type": "stream",
     "text": [
      " 78%|█████████████████████████████████████████████████████████████████████████████████████████████████████████████████████████████████████████████████████████▌                                           | 92/118 [01:18<00:40,  1.54s/it]"
     ]
    },
    {
     "name": "stdout",
     "output_type": "stream",
     "text": [
      "North America-202005.tsv\n"
     ]
    },
    {
     "name": "stderr",
     "output_type": "stream",
     "text": [
      " 79%|███████████████████████████████████████████████████████████████████████████████████████████████████████████████████████████████████████████████████████████▎                                         | 93/118 [01:19<00:32,  1.30s/it]"
     ]
    },
    {
     "name": "stdout",
     "output_type": "stream",
     "text": [
      "South America-202107.tsv\n"
     ]
    },
    {
     "name": "stderr",
     "output_type": "stream",
     "text": [
      " 80%|████████████████████████████████████████████████████████████████████████████████████████████████████████████████████████████████████████████████████████████▉                                        | 94/118 [01:20<00:29,  1.25s/it]"
     ]
    },
    {
     "name": "stdout",
     "output_type": "stream",
     "text": [
      "North America-202011.tsv\n"
     ]
    },
    {
     "name": "stderr",
     "output_type": "stream",
     "text": [
      " 81%|██████████████████████████████████████████████████████████████████████████████████████████████████████████████████████████████████████████████████████████████▌                                      | 95/118 [01:21<00:29,  1.28s/it]"
     ]
    },
    {
     "name": "stdout",
     "output_type": "stream",
     "text": [
      "Europe-202010.tsv\n"
     ]
    },
    {
     "name": "stderr",
     "output_type": "stream",
     "text": [
      " 82%|█████████████████████████████████████████████████████████████████████████████████████████████████████████████████████████████████████████████████████████████████▉                                   | 97/118 [01:23<00:21,  1.01s/it]"
     ]
    },
    {
     "name": "stdout",
     "output_type": "stream",
     "text": [
      "Oceania-202003.tsv\n",
      "Europe-202005.tsv\n"
     ]
    },
    {
     "name": "stderr",
     "output_type": "stream",
     "text": [
      " 84%|█████████████████████████████████████████████████████████████████████████████████████████████████████████████████████████████████████████████████████████████████████▎                               | 99/118 [01:24<00:13,  1.45it/s]"
     ]
    },
    {
     "name": "stdout",
     "output_type": "stream",
     "text": [
      "Africa-202011.tsv\n",
      "Asia-202108.tsv\n"
     ]
    },
    {
     "name": "stderr",
     "output_type": "stream",
     "text": [
      " 85%|██████████████████████████████████████████████████████████████████████████████████████████████████████████████████████████████████████████████████████████████████████                              | 100/118 [01:26<00:17,  1.01it/s]"
     ]
    },
    {
     "name": "stdout",
     "output_type": "stream",
     "text": [
      "Africa-202104.tsv\n"
     ]
    },
    {
     "name": "stderr",
     "output_type": "stream",
     "text": [
      " 86%|███████████████████████████████████████████████████████████████████████████████████████████████████████████████████████████████████████████████████████████████████████▊                            | 101/118 [01:26<00:13,  1.30it/s]"
     ]
    },
    {
     "name": "stdout",
     "output_type": "stream",
     "text": [
      "South America-202101.tsv\n"
     ]
    },
    {
     "name": "stderr",
     "output_type": "stream",
     "text": [
      " 86%|█████████████████████████████████████████████████████████████████████████████████████████████████████████████████████████████████████████████████████████████████████████▍                          | 102/118 [01:27<00:10,  1.47it/s]"
     ]
    },
    {
     "name": "stdout",
     "output_type": "stream",
     "text": [
      "Asia-202103.tsv\n"
     ]
    },
    {
     "name": "stderr",
     "output_type": "stream",
     "text": [
      " 87%|███████████████████████████████████████████████████████████████████████████████████████████████████████████████████████████████████████████████████████████████████████████                         | 103/118 [01:27<00:11,  1.31it/s]"
     ]
    },
    {
     "name": "stdout",
     "output_type": "stream",
     "text": [
      "North America-202102.tsv\n"
     ]
    },
    {
     "name": "stderr",
     "output_type": "stream",
     "text": [
      " 88%|████████████████████████████████████████████████████████████████████████████████████████████████████████████████████████████████████████████████████████████████████████████▋                       | 104/118 [01:30<00:16,  1.19s/it]"
     ]
    },
    {
     "name": "stdout",
     "output_type": "stream",
     "text": [
      "Europe-202106.tsv\n"
     ]
    },
    {
     "name": "stderr",
     "output_type": "stream",
     "text": [
      " 90%|████████████████████████████████████████████████████████████████████████████████████████████████████████████████████████████████████████████████████████████████████████████████                    | 106/118 [01:33<00:15,  1.27s/it]"
     ]
    },
    {
     "name": "stdout",
     "output_type": "stream",
     "text": [
      "Oceania-202105.tsv\n",
      "Oceania-202004.tsv\n",
      "South America-202008.tsv\n"
     ]
    },
    {
     "name": "stderr",
     "output_type": "stream",
     "text": [
      " 92%|███████████████████████████████████████████████████████████████████████████████████████████████████████████████████████████████████████████████████████████████████████████████████▍                | 108/118 [01:33<00:07,  1.30it/s]"
     ]
    },
    {
     "name": "stdout",
     "output_type": "stream",
     "text": [
      "Europe-202102.tsv\n"
     ]
    },
    {
     "name": "stderr",
     "output_type": "stream",
     "text": [
      " 92%|█████████████████████████████████████████████████████████████████████████████████████████████████████████████████████████████████████████████████████████████████████████████████████               | 109/118 [01:37<00:12,  1.40s/it]"
     ]
    },
    {
     "name": "stdout",
     "output_type": "stream",
     "text": [
      "Europe-202108.tsv\n"
     ]
    },
    {
     "name": "stderr",
     "output_type": "stream",
     "text": [
      " 94%|████████████████████████████████████████████████████████████████████████████████████████████████████████████████████████████████████████████████████████████████████████████████████████▎           | 111/118 [01:42<00:12,  1.78s/it]"
     ]
    },
    {
     "name": "stdout",
     "output_type": "stream",
     "text": [
      "Africa-202005.tsv\n",
      "South America-202012.tsv\n"
     ]
    },
    {
     "name": "stderr",
     "output_type": "stream",
     "text": [
      " 95%|██████████████████████████████████████████████████████████████████████████████████████████████████████████████████████████████████████████████████████████████████████████████████████████          | 112/118 [01:42<00:08,  1.38s/it]"
     ]
    },
    {
     "name": "stdout",
     "output_type": "stream",
     "text": [
      "South America-202007.tsv\n"
     ]
    },
    {
     "name": "stderr",
     "output_type": "stream",
     "text": [
      " 97%|█████████████████████████████████████████████████████████████████████████████████████████████████████████████████████████████████████████████████████████████████████████████████████████████▎      | 114/118 [01:43<00:03,  1.24it/s]"
     ]
    },
    {
     "name": "stdout",
     "output_type": "stream",
     "text": [
      "Oceania-202008.tsv\n",
      "Oceania-202107.tsv\n"
     ]
    },
    {
     "name": "stderr",
     "output_type": "stream",
     "text": [
      " 97%|███████████████████████████████████████████████████████████████████████████████████████████████████████████████████████████████████████████████████████████████████████████████████████████████     | 115/118 [01:43<00:01,  1.66it/s]"
     ]
    },
    {
     "name": "stdout",
     "output_type": "stream",
     "text": [
      "South America-202011.tsv\n"
     ]
    },
    {
     "name": "stderr",
     "output_type": "stream",
     "text": [
      " 98%|████████████████████████████████████████████████████████████████████████████████████████████████████████████████████████████████████████████████████████████████████████████████████████████████▋   | 116/118 [01:43<00:01,  1.98it/s]"
     ]
    },
    {
     "name": "stdout",
     "output_type": "stream",
     "text": [
      "Asia-202008.tsv\n"
     ]
    },
    {
     "name": "stderr",
     "output_type": "stream",
     "text": [
      " 99%|██████████████████████████████████████████████████████████████████████████████████████████████████████████████████████████████████████████████████████████████████████████████████████████████████▎ | 117/118 [01:44<00:00,  1.93it/s]"
     ]
    },
    {
     "name": "stdout",
     "output_type": "stream",
     "text": [
      "Africa-202106.tsv\n"
     ]
    },
    {
     "name": "stderr",
     "output_type": "stream",
     "text": [
      "100%|████████████████████████████████████████████████████████████████████████████████████████████████████████████████████████████████████████████████████████████████████████████████████████████████████| 118/118 [01:44<00:00,  1.13it/s]\n",
      "  0%|                                                                                                                                                                                                                | 0/6 [00:00<?, ?it/s]"
     ]
    },
    {
     "name": "stdout",
     "output_type": "stream",
     "text": [
      "South America\n",
      "2020-02\n",
      "29903\n",
      "2020-03\n",
      "29903\n",
      "2020-04\n",
      "29903\n",
      "2020-05\n",
      "29903\n",
      "2020-06\n",
      "29903\n",
      "2020-07\n",
      "29903\n",
      "2020-08\n",
      "29903\n",
      "2020-09\n",
      "29903\n",
      "2020-10\n",
      "29903\n",
      "2020-11\n",
      "29903\n",
      "2020-12\n",
      "29903\n",
      "2021-01\n",
      "29903\n",
      "2021-02\n",
      "29903\n",
      "2021-03\n",
      "29903\n",
      "2021-04\n",
      "29903\n",
      "2021-05\n",
      "29903\n",
      "2021-06\n",
      "29903\n",
      "2021-07\n",
      "29903\n",
      "2021-08\n",
      "29903\n",
      "Start drawing\n"
     ]
    },
    {
     "name": "stderr",
     "output_type": "stream",
     "text": [
      " 17%|█████████████████████████████████▎                                                                                                                                                                      | 1/6 [00:19<01:35, 19.13s/it]"
     ]
    },
    {
     "name": "stdout",
     "output_type": "stream",
     "text": [
      "Europe\n",
      "2020-01\n",
      "29903\n",
      "2020-02\n",
      "29903\n",
      "2020-03\n",
      "29903\n",
      "2020-04\n",
      "29903\n",
      "2020-05\n",
      "29903\n",
      "2020-06\n",
      "29903\n",
      "2020-07\n",
      "29903\n",
      "2020-08\n",
      "29903\n",
      "2020-09\n",
      "29903\n",
      "2020-10\n",
      "29903\n",
      "2020-11\n",
      "29903\n",
      "2020-12\n",
      "29903\n",
      "2021-01\n",
      "29903\n",
      "2021-02\n",
      "29903\n",
      "2021-03\n",
      "29903\n",
      "2021-04\n",
      "29903\n",
      "2021-05\n",
      "29903\n",
      "2021-06\n",
      "29903\n",
      "2021-07\n",
      "29903\n",
      "2021-08\n",
      "29903\n",
      "Start drawing\n"
     ]
    },
    {
     "name": "stderr",
     "output_type": "stream",
     "text": [
      " 33%|██████████████████████████████████████████████████████████████████▋                                                                                                                                     | 2/6 [00:38<01:17, 19.29s/it]"
     ]
    },
    {
     "name": "stdout",
     "output_type": "stream",
     "text": [
      "North America\n",
      "2020-01\n",
      "29903\n",
      "2020-02\n",
      "29903\n",
      "2020-03\n",
      "29903\n",
      "2020-04\n",
      "29903\n",
      "2020-05\n",
      "29903\n",
      "2020-06\n",
      "29903\n",
      "2020-07\n",
      "29903\n",
      "2020-08\n",
      "29903\n",
      "2020-09\n",
      "29903\n",
      "2020-10\n",
      "29903\n",
      "2020-11\n",
      "29903\n",
      "2020-12\n",
      "29903\n",
      "2021-01\n",
      "29903\n",
      "2021-02\n",
      "29903\n",
      "2021-03\n",
      "29903\n",
      "2021-04\n",
      "29903\n",
      "2021-05\n",
      "29903\n",
      "2021-06\n",
      "29903\n",
      "2021-07\n",
      "29903\n",
      "2021-08\n",
      "29903\n",
      "Start drawing\n"
     ]
    },
    {
     "name": "stderr",
     "output_type": "stream",
     "text": [
      " 50%|████████████████████████████████████████████████████████████████████████████████████████████████████                                                                                                    | 3/6 [00:57<00:57, 19.25s/it]"
     ]
    },
    {
     "name": "stdout",
     "output_type": "stream",
     "text": [
      "Africa\n",
      "2020-02\n",
      "29903\n",
      "2020-03\n",
      "29903\n",
      "2020-04\n",
      "29903\n",
      "2020-05\n",
      "29903\n",
      "2020-06\n",
      "29903\n",
      "2020-07\n",
      "29903\n",
      "2020-08\n",
      "29903\n",
      "2020-09\n",
      "29903\n",
      "2020-10\n",
      "29903\n",
      "2020-11\n",
      "29903\n",
      "2020-12\n",
      "29903\n",
      "2021-01\n",
      "29903\n",
      "2021-02\n",
      "29903\n",
      "2021-03\n",
      "29903\n",
      "2021-04\n",
      "29903\n",
      "2021-05\n",
      "29903\n",
      "2021-06\n",
      "29903\n",
      "2021-07\n",
      "29903\n",
      "2021-08\n",
      "29903\n",
      "Start drawing\n"
     ]
    },
    {
     "name": "stderr",
     "output_type": "stream",
     "text": [
      " 67%|█████████████████████████████████████████████████████████████████████████████████████████████████████████████████████████████████████▎                                                                  | 4/6 [01:16<00:38, 19.20s/it]"
     ]
    },
    {
     "name": "stdout",
     "output_type": "stream",
     "text": [
      "Oceania\n",
      "2020-01\n",
      "29903\n",
      "2020-02\n",
      "29903\n",
      "2020-03\n",
      "29903\n",
      "2020-04\n",
      "29903\n",
      "2020-05\n",
      "29903\n",
      "2020-06\n",
      "29903\n",
      "2020-07\n",
      "29903\n",
      "2020-08\n",
      "29903\n",
      "2020-09\n",
      "29903\n",
      "2020-10\n",
      "29903\n",
      "2020-11\n",
      "29903\n",
      "2020-12\n",
      "29903\n",
      "2021-01\n",
      "29903\n",
      "2021-02\n",
      "29903\n",
      "2021-03\n",
      "29903\n",
      "2021-04\n",
      "29903\n",
      "2021-05\n",
      "29903\n",
      "2021-06\n",
      "29903\n",
      "2021-07\n",
      "29903\n",
      "2021-08\n",
      "29903\n",
      "Start drawing\n"
     ]
    },
    {
     "name": "stderr",
     "output_type": "stream",
     "text": [
      " 83%|██████████████████████████████████████████████████████████████████████████████████████████████████████████████████████████████████████████████████████████████████████▋                                 | 5/6 [01:36<00:19, 19.30s/it]"
     ]
    },
    {
     "name": "stdout",
     "output_type": "stream",
     "text": [
      "Asia\n",
      "2020-01\n",
      "29903\n",
      "2020-02\n",
      "29903\n",
      "2020-03\n",
      "29903\n",
      "2020-04\n",
      "29903\n",
      "2020-05\n",
      "29903\n",
      "2020-06\n",
      "29903\n",
      "2020-07\n",
      "29903\n",
      "2020-08\n",
      "29903\n",
      "2020-09\n",
      "29903\n",
      "2020-10\n",
      "29903\n",
      "2020-11\n",
      "29903\n",
      "2020-12\n",
      "29903\n",
      "2021-01\n",
      "29903\n",
      "2021-02\n",
      "29903\n",
      "2021-03\n",
      "29903\n",
      "2021-04\n",
      "29903\n",
      "2021-05\n",
      "29903\n",
      "2021-06\n",
      "29903\n",
      "2021-07\n",
      "29903\n",
      "2021-08\n",
      "29903\n",
      "Start drawing\n"
     ]
    },
    {
     "name": "stderr",
     "output_type": "stream",
     "text": [
      "100%|████████████████████████████████████████████████████████████████████████████████████████████████████████████████████████████████████████████████████████████████████████████████████████████████████████| 6/6 [01:55<00:00, 19.29s/it]\n"
     ]
    }
   ],
   "source": [
    "import numpy as np\n",
    "import matplotlib.pyplot as plt\n",
    "import pandas as pd\n",
    "from matplotlib.pyplot import MultipleLocator\n",
    "from matplotlib.ticker import FormatStrFormatter\n",
    "import matplotlib.patches as mpatches\n",
    "from tqdm import tqdm\n",
    "import matplotlib as mpl\n",
    "import os\n",
    "import seaborn as sns\n",
    "from collections import defaultdict\n",
    "from matplotlib.font_manager import FontProperties\n",
    "import matplotlib.ticker as ticker\n",
    "\n",
    "continent_month_files = \"../../data/input/continent_month_split/\"\n",
    "scatter_figures_output = \"../../data/output/plots/scatter_figures/\"\n",
    "bounds_file_path = \"../../data/input/genome_list.tsv\"\n",
    "\n",
    "def get_en_font():\n",
    "    font = FontProperties()\n",
    "    font.set_family('serif')\n",
    "    font.set_name('Times New Roman')\n",
    "    return font\n",
    "\n",
    "en_font = get_en_font()\n",
    "\n",
    "# 设置图表正常显示中文\n",
    "plt.rcParams['font.family'] = 'sans-serif'\n",
    "# plt.rcParams['font.sans-serif'] = ['SimSun']\n",
    "plt.rcParams['font.sans-serif'] = ['Times New Roman']\n",
    "plt.rcParams[\"font.style\"] = \"normal\"\n",
    "plt.rcParams[\"axes.unicode_minus\"]=False\n",
    "\n",
    "print(\"read data from genome_list.tsv\")\n",
    "data = pd.read_csv(bounds_file_path, sep=\"\\t\", header=None,names=['id', 'proteinName', 'gene', 'index'])\n",
    "bounds = [1]\n",
    "legend_labels = [\"orf1a\",\"orf1b\"]\n",
    "labels = [\"5'UTR\",\"orf1a\",\"orf1b\",\"NCR\"]\n",
    "for row_index, row in data.iterrows():\n",
    "    if row[\"gene\"] == \"orf1ab\":\n",
    "        temp = row[\"index\"].split(\",\")\n",
    "        for item in temp:\n",
    "            index_list = item.split(\"..\")\n",
    "            for index in index_list:\n",
    "                if int(index) not in bounds:\n",
    "                    bounds.append(int(index))\n",
    "    else:\n",
    "        legend_labels.append(row[\"gene\"])\n",
    "        labels.append(row[\"gene\"])\n",
    "        if row[\"gene\"] == \"ORF10\":\n",
    "            labels.append(\"3'UTR\")\n",
    "        else:\n",
    "            labels.append(\"NCR\")\n",
    "        temp = row[\"index\"].split(\"..\")\n",
    "        for item in temp:\n",
    "            if int(item) not in bounds:\n",
    "                bounds.append(int(item))\n",
    "bounds.append(30000)\n",
    "colors = ['white', '#63b2ee','#76da91','white','#f8cb7f','white','#f89588','white','#7cd6cf','white','#9192ab','white','#7898e1','white', '#efa666', 'white','#eddd86','white','#9987ce','white', '#63b2ee', 'white']\n",
    "legend_colors = [c for c in colors if c != \"white\"]\n",
    "print(bounds,len(bounds), labels, len(labels), len(legend_colors))\n",
    "\n",
    "colors_dict = {\n",
    "    0:colors[0:2],\n",
    "    1:['#63b2ee'],\n",
    "    2:['#63b2ee','#76da91'],\n",
    "    3:['#76da91'],\n",
    "    4:['#76da91','white','#f8cb7f'],\n",
    "    5:['#f8cb7f','white','#f89588','white','#7cd6cf','white','#9192ab','white','#7898e1','white', '#efa666', 'white','#eddd86','white','#9987ce','white', '#63b2ee', 'white']\n",
    "}\n",
    "\n",
    "bounds_dict = {\n",
    "    0:[1, 266, 5000],\n",
    "    1:[5001, 10000],\n",
    "    2:[10001, 13468, 15000],\n",
    "    3:[15001, 20000],\n",
    "    4:[20001, 21555, 21563, 25000],\n",
    "    5:[25001, 25384, 25393, 26220, 26245, 26472, 26523, 27191, 27202, 27387, 27394, 27759, 27894, 28259, 28274, 29533, 29558, 29674, 30000]\n",
    "}\n",
    "\n",
    "labels_dict = {\n",
    "    0:[1, 266, 5000],\n",
    "    1:[5001, 10000],\n",
    "    2:[10001, 13468, 15000],\n",
    "    3:[15001, 20000],\n",
    "    4:[20001, 21563, 25000],\n",
    "    5:[25001, 25393, 26245, 26523, 27202, 27394, 27894, 28274, 29558, 30000]\n",
    "}\n",
    "\n",
    "legend_labels_dict = {\n",
    "    0:[\"ORF1a\"],\n",
    "    1:[\"ORF1a\"],\n",
    "    2:[\"ORF1a\",\"ORF1b\"],\n",
    "    3:[\"ORF1b\"],\n",
    "    4:[\"ORF1b\", \"S\"],\n",
    "    5:[\"S\", \"ORF3a\",\"E\", \"M\", \"ORF6\", \"ORF7a\", \"ORF8\", \"N\", \"ORF10\"]\n",
    "}\n",
    "\n",
    "print(\"reading data grouped by month and continent\")\n",
    "# 声明一个dict类型的空dict\n",
    "continent_month_dict = defaultdict(lambda : {})\n",
    "# 声明heatmap的横轴数组(29903bp)\n",
    "genome_length = [i+1 for i in range(29903)]\n",
    "\n",
    "splits = os.listdir(continent_month_files)\n",
    "for split in tqdm(splits):\n",
    "    print(split)\n",
    "    # 获取文件名的大洲与月份\n",
    "    continent, month = split.split(\".\")[0].split(\"-\")\n",
    "    month = month[0:4] + \"-\" + month[4:]\n",
    "    # 读取文件数据\n",
    "    data = pd.read_csv(continent_month_files + split, sep=\"\\t\")\n",
    "    # # 将position的类型改为str\n",
    "    # data[\"Position\"] = data[\"Position\"].astype(str)\n",
    "    # 计算当月的样本数\n",
    "    sample_num = len(data[\"Id\"].unique())\n",
    "    # 计算各个位点的出现个数并按照位点次序排序\n",
    "    pos_series = data[\"Position\"].value_counts().sort_index()\n",
    "    # 判断是否存在position=0，如果有就删除该行\n",
    "    keys = pos_series.keys()\n",
    "    if 0 in keys:\n",
    "        pos_series = pos_series.drop(0)\n",
    "    # print(pos_series)\n",
    "    pos_fre_series = pos_series / sample_num\n",
    "    pos_indexs = list(pos_fre_series.keys())\n",
    "    fre_res = []\n",
    "    for i in genome_length:\n",
    "        if i in pos_indexs:\n",
    "            fre_res.append(round(pos_fre_series[i],2))\n",
    "        else:\n",
    "            fre_res.append(0)\n",
    "    continent_month_dict[continent][month] = list(fre_res)\n",
    "\n",
    "for continent in tqdm(continent_month_dict):\n",
    "    print(continent)\n",
    "    months = []\n",
    "    heatmap_data = []\n",
    "    sorted_continent_dict = sorted(continent_month_dict[continent].items(), key=lambda x: x[0]) \n",
    "    for month_data in sorted_continent_dict:\n",
    "        print(month_data[0])\n",
    "        month = month_data[0]\n",
    "        months.append(month)\n",
    "        heatmap_data.append(list(month_data[1]))\n",
    "        print(len(month_data[1]))\n",
    "        # months.append(month)\n",
    "        # 进行热点图作图\n",
    "    print(\"Start drawing\")\n",
    "    heatmap_data = np.array(heatmap_data)\n",
    "    heatmap_data1 = np.array(heatmap_data[:,0:5000])\n",
    "    heatmap_data2 = np.array(heatmap_data[:,5000:10000])\n",
    "    heatmap_data3 = np.array(heatmap_data[:,10000:15000])\n",
    "    heatmap_data4 = np.array(heatmap_data[:,15000:20000])\n",
    "    heatmap_data5 = np.array(heatmap_data[:,20000:25000])\n",
    "    heatmap_data6 = np.array(heatmap_data[:,25000:])\n",
    "\n",
    "    heatmap_data_dict = {\n",
    "    0:heatmap_data1,\n",
    "    1:heatmap_data2,\n",
    "    2:heatmap_data3,\n",
    "    3:heatmap_data4,\n",
    "    4:heatmap_data5,\n",
    "    5:heatmap_data6,\n",
    "}\n",
    "\n",
    "    for i in range(6):\n",
    "        plt.figure(figsize=(45,15))\n",
    "        grid = plt.GridSpec(15, 45, hspace=0.8, right = 0.8)\n",
    "        plt.subplot(grid[0:9,0:44])\n",
    "        ax = sns.heatmap(heatmap_data_dict[i], cmap=\"PuRd\", yticklabels=months, vmin=0,vmax=0.05, cbar=False)\n",
    "        plt.xticks(ticks = [1,1000, 2000, 3000, 4000,5000],labels=[1+i*5000,1000+i*5000, 2000+i*5000, 3000+i*5000, 4000+i*5000,(1+i)*5000]) \n",
    "        ax.set_xticklabels(labels=[1+i*5000,1000+i*5000, 2000+i*5000, 3000+i*5000, 4000+i*5000,(1+i)*5000],fontsize=32, fontproperties=en_font)\n",
    "        ax.set_yticklabels(labels=months, fontsize=32, fontproperties=en_font)\n",
    "        ax.tick_params(top=True, bottom=False,\n",
    "                       labeltop=True, labelbottom=False, labelsize=32)\n",
    "        plt.setp(ax.get_xticklabels(), rotation=-0, ha=\"right\",\n",
    "                 rotation_mode=\"anchor\")\n",
    "        plt.setp(ax.get_yticklabels(), rotation=0, ha=\"right\",\n",
    "                 rotation_mode=\"anchor\")\n",
    "        ax = plt.subplot(grid[0:9, 44:])\n",
    "        # cb=ax.figure.colorbar(ax.collections[0]) #显示colorbar\n",
    "        # cb.ax.tick_params(labelsize=32) #设置colorbar刻度字体大小\n",
    "        norm = mpl.colors.Normalize(vmin=0, vmax=0.05)\n",
    "        cb = plt.colorbar(\n",
    "            mpl.cm.ScalarMappable(norm=norm, cmap=\"PuRd\"),\n",
    "            cax=ax,\n",
    "            ticks=[0,0.01, 0.02, 0.03, 0.04,0.05]\n",
    "        )\n",
    "        cb.ax.tick_params(labelsize=32)\n",
    "        ax = plt.subplot(grid[9:10,0:44])\n",
    "        cmap = mpl.colors.ListedColormap(colors_dict[i])\n",
    "        norm = mpl.colors.BoundaryNorm(bounds_dict[i], cmap.N)\n",
    "        cbar = plt.colorbar(\n",
    "            mpl.cm.ScalarMappable(cmap=cmap, norm=norm),\n",
    "            cax=ax,\n",
    "            ticks=[],\n",
    "            spacing='proportional',\n",
    "            orientation='horizontal',\n",
    "        )\n",
    "        # cbar.xticks(ticks=[(j-i*5000) for j in bounds_dict[i]],labels=[str(j) for j in bounds_dict[i]])\n",
    "        # cbar.ax.tick_params(labelsize=32)\n",
    "        # plt.setp(cbar.ax.get_xticklabels(), rotation=0, ha=\"right\",\n",
    "        #  rotation_mode=\"anchor\")\n",
    "\n",
    "        # cbar.ax.set_xticklabels([str(j) for j in bounds_dict[i]])\n",
    "        cbar.outline.set_visible(False)\n",
    "        # create a patch (proxy artist) for every color \n",
    "        label_colors = [c for c in colors_dict[i] if c != \"white\"]\n",
    "        patches = [ mpatches.Patch(color=label_colors[j], label=legend_labels_dict[i][j]) for j in range(len(label_colors)) ]\n",
    "        # put those patched as legend-handles into the legend\n",
    "        # ax = plt.subplot(grid[10:,0:44])\n",
    "        ncol = len(label_colors)\n",
    "        lg = ax.legend(handles=patches, fontsize=32,bbox_to_anchor=(0.5,-3),loc=8,borderaxespad = 0.2,ncol=ncol, labelspacing=1 )\n",
    "\n",
    "\n",
    "        plt.savefig(\n",
    "        scatter_figures_output + \"mutation_region-{}-{}.png\".format(continent, i+1),bbox_extra_artists=(lg,),  bbox_inches=\"tight\",dpi=500)\n",
    "        plt.close()\n",
    "\n",
    "\n",
    "    # plt.figure(figsize=(45,10))\n",
    "    # grid = plt.GridSpec(10, 45, hspace=0.8, right = 0.8)\n",
    "    # plt.subplot(grid[0:9,0:44])\n",
    "    # ax = sns.heatmap(heatmap_data1, cmap=\"PuRd\", yticklabels=months, vmin=0,vmax=0.05, cbar=False)\n",
    "    # # plt.xticks(ticks = [1,2500, 5000, 7500, 10000],labels=[1,2500, 5000, 7500, 10000]) \n",
    "    # plt.xticks(ticks = [1,500, 1000, 1500, 2000,2500, 5000],labels=[1,500, 1000, 1500, 2000,2500, 5000]) \n",
    "    # ax.set_xticklabels(labels=[1,500, 1000, 1500, 2000,2500, 5000],fontsize=32, fontproperties=en_font)\n",
    "    # ax.set_yticklabels(labels=months, fontsize=32, fontproperties=en_font)\n",
    "    # ax.tick_params(top=True, bottom=False,\n",
    "    #                labeltop=True, labelbottom=False, labelsize=32)\n",
    "    # plt.setp(ax.get_xticklabels(), rotation=-0, ha=\"right\",\n",
    "    #          rotation_mode=\"anchor\")\n",
    "    # plt.setp(ax.get_yticklabels(), rotation=0, ha=\"right\",\n",
    "    #          rotation_mode=\"anchor\")\n",
    "    \n",
    "    # ax = plt.subplot(grid[0:9, 44:])\n",
    "    # # cb=ax.figure.colorbar(ax.collections[0]) #显示colorbar\n",
    "    # # cb.ax.tick_params(labelsize=32) #设置colorbar刻度字体大小\n",
    "    # norm = mpl.colors.Normalize(vmin=0, vmax=0.05)\n",
    "    # cb = plt.colorbar(\n",
    "    #     mpl.cm.ScalarMappable(norm=norm, cmap=\"PuRd\"),\n",
    "    #     cax=ax,\n",
    "    #     ticks=[0,0.01, 0.02, 0.03, 0.04,0.05]\n",
    "    # )\n",
    "    # cb.ax.tick_params(labelsize=32)\n",
    "    \n",
    "    # ax = plt.subplot(grid[9,0:44])\n",
    "    # cmap = mpl.colors.ListedColormap(colors_1)\n",
    "    # norm = mpl.colors.BoundaryNorm(bounds_1, cmap.N)\n",
    "    # cbar = plt.colorbar(\n",
    "    #     mpl.cm.ScalarMappable(cmap=cmap, norm=norm),\n",
    "    #     cax=ax,\n",
    "    #     ticks=[241, 266, 3037, 10000],\n",
    "    #     spacing='proportional',\n",
    "    #     orientation='horizontal',\n",
    "    # )\n",
    "    # cbar.outline.set_visible(False)\n",
    "    # cbar.ax.tick_params(labelsize=32)\n",
    "\n",
    "    # plt.savefig(\n",
    "    #     scatter_figures_output + \"mutation_region-{}-1.png\".format(continent), bbox_inches=\"tight\")\n",
    "    # plt.close()\n",
    "\n",
    "\n",
    "\n"
   ]
  },
  {
   "cell_type": "code",
   "execution_count": 2,
   "id": "a2af8afb-6940-42c4-9782-db8692b40af4",
   "metadata": {
    "scrolled": true,
    "tags": []
   },
   "outputs": [
    {
     "name": "stderr",
     "output_type": "stream",
     "text": [
      "  0%|                                                                                                                                                                                                                | 0/6 [00:00<?, ?it/s]"
     ]
    },
    {
     "name": "stdout",
     "output_type": "stream",
     "text": [
      "South America\n",
      "2020-02\n",
      "2020-03\n",
      "2020-04\n",
      "2020-05\n",
      "2020-06\n",
      "2020-07\n",
      "2020-08\n",
      "2020-09\n",
      "2020-10\n",
      "2020-11\n",
      "2020-12\n",
      "2021-01\n",
      "2021-02\n",
      "2021-03\n",
      "2021-04\n",
      "2021-05\n",
      "2021-06\n",
      "2021-07\n",
      "2021-08\n"
     ]
    },
    {
     "name": "stderr",
     "output_type": "stream",
     "text": [
      "\n"
     ]
    },
    {
     "ename": "TypeError",
     "evalue": "list indices must be integers or slices, not tuple",
     "output_type": "error",
     "traceback": [
      "\u001b[0;31m---------------------------------------------------------------------------\u001b[0m",
      "\u001b[0;31mTypeError\u001b[0m                                 Traceback (most recent call last)",
      "\u001b[0;32m/tmp/ipykernel_296814/16100075.py\u001b[0m in \u001b[0;36m<module>\u001b[0;34m\u001b[0m\n\u001b[1;32m     11\u001b[0m         \u001b[0;31m# months.append(month)\u001b[0m\u001b[0;34m\u001b[0m\u001b[0;34m\u001b[0m\u001b[0m\n\u001b[1;32m     12\u001b[0m         \u001b[0;31m# 进行热点图作图\u001b[0m\u001b[0;34m\u001b[0m\u001b[0;34m\u001b[0m\u001b[0m\n\u001b[0;32m---> 13\u001b[0;31m     \u001b[0mprint\u001b[0m\u001b[0;34m(\u001b[0m\u001b[0mheatmap_data\u001b[0m\u001b[0;34m[\u001b[0m\u001b[0;34m:\u001b[0m\u001b[0;34m,\u001b[0m\u001b[0;36m3037\u001b[0m\u001b[0;34m:\u001b[0m\u001b[0;36m3038\u001b[0m\u001b[0;34m]\u001b[0m\u001b[0;34m)\u001b[0m\u001b[0;34m\u001b[0m\u001b[0;34m\u001b[0m\u001b[0m\n\u001b[0m\u001b[1;32m     14\u001b[0m     \u001b[0mprint\u001b[0m\u001b[0;34m(\u001b[0m\u001b[0;34m\"开始作图\"\u001b[0m\u001b[0;34m)\u001b[0m\u001b[0;34m\u001b[0m\u001b[0;34m\u001b[0m\u001b[0m\n\u001b[1;32m     15\u001b[0m     \u001b[0;32mbreak\u001b[0m\u001b[0;34m\u001b[0m\u001b[0;34m\u001b[0m\u001b[0m\n",
      "\u001b[0;31mTypeError\u001b[0m: list indices must be integers or slices, not tuple"
     ]
    }
   ],
   "source": [
    "for continent in tqdm(continent_month_dict):\n",
    "    print(continent)\n",
    "    months = []\n",
    "    heatmap_data = []\n",
    "    sorted_continent_dict = sorted(continent_month_dict[continent].items(), key=lambda x: x[0]) \n",
    "    for month_data in sorted_continent_dict:\n",
    "        print(month_data[0])\n",
    "        month = month_data[0]\n",
    "        months.append(month)\n",
    "        heatmap_data.append(month_data[1])\n",
    "        # months.append(month)\n",
    "        # 进行热点图作图\n",
    "    print(heatmap_data[:,3037:3038])\n",
    "    print(\"开始作图\")\n",
    "    break"
   ]
  },
  {
   "cell_type": "code",
   "execution_count": 3,
   "id": "d98d754c-27ac-4a65-9e25-2387b8780bd6",
   "metadata": {},
   "outputs": [
    {
     "data": {
      "text/plain": [
       "19"
      ]
     },
     "execution_count": 3,
     "metadata": {},
     "output_type": "execute_result"
    }
   ],
   "source": [
    "len(heatmap_data)"
   ]
  },
  {
   "cell_type": "code",
   "execution_count": 4,
   "id": "8474f09d-0400-4922-b617-4618f1446d9f",
   "metadata": {},
   "outputs": [
    {
     "data": {
      "text/plain": [
       "29903"
      ]
     },
     "execution_count": 4,
     "metadata": {},
     "output_type": "execute_result"
    }
   ],
   "source": [
    "len(heatmap_data[0])"
   ]
  },
  {
   "cell_type": "code",
   "execution_count": 5,
   "id": "72809213-75ee-48ca-bfb5-f9729983463e",
   "metadata": {},
   "outputs": [
    {
     "data": {
      "text/plain": [
       "19"
      ]
     },
     "execution_count": 5,
     "metadata": {},
     "output_type": "execute_result"
    }
   ],
   "source": [
    "len(months)"
   ]
  },
  {
   "cell_type": "code",
   "execution_count": 9,
   "id": "584474a7-2054-420a-8532-07ea20418888",
   "metadata": {},
   "outputs": [],
   "source": [
    "heatmap_data = np.array(heatmap_data)"
   ]
  },
  {
   "cell_type": "code",
   "execution_count": 6,
   "id": "4bae1552-82c5-4411-9527-54b2e3694857",
   "metadata": {},
   "outputs": [
    {
     "data": {
      "image/png": "[encoded data removed]",
      "text/plain": [
       "<Figure size 5040x720 with 1 Axes>"
      ]
     },
     "metadata": {
      "needs_background": "light"
     },
     "output_type": "display_data"
    }
   ],
   "source": [
    "draw_months = months\n",
    "draw_heatmap_data = heatmap_data\n",
    "plt.figure(figsize=(70,10))\n",
    "ax = sns.heatmap(draw_heatmap_data, cmap=\"YlOrRd\", yticklabels=draw_months, vmin=0,vmax=0.05, cbar=False)"
   ]
  },
  {
   "cell_type": "code",
   "execution_count": 7,
   "id": "d16ef446-52bd-420c-af8d-5d88f4919311",
   "metadata": {},
   "outputs": [
    {
     "data": {
      "image/png": "[encoded data removed]",
      "text/plain": [
       "<Figure size 5040x720 with 1 Axes>"
      ]
     },
     "metadata": {
      "needs_background": "light"
     },
     "output_type": "display_data"
    }
   ],
   "source": [
    "draw_months = months\n",
    "draw_heatmap_data = heatmap_data\n",
    "plt.figure(figsize=(70,10))\n",
    "ax = sns.heatmap(draw_heatmap_data, cmap=\"YlOrRd\", yticklabels=draw_months, vmin=0,vmax=0.05, cbar=False)"
   ]
  },
  {
   "cell_type": "code",
   "execution_count": 43,
   "id": "efb9daa7-aea6-451e-8d72-0aa63c444c26",
   "metadata": {},
   "outputs": [
    {
     "data": {
      "image/png": "[encoded data removed]",
      "text/plain": [
       "<Figure size 5040x720 with 1 Axes>"
      ]
     },
     "metadata": {
      "needs_background": "light"
     },
     "output_type": "display_data"
    }
   ],
   "source": [
    "draw_months = months\n",
    "draw_heatmap_data = heatmap_data[:,:5000]\n",
    "plt.figure(figsize=(70,10))\n",
    "ax = sns.heatmap(draw_heatmap_data, cmap=\"YlOrRd\", yticklabels=draw_months, vmin=0,vmax=0.05, cbar=False)"
   ]
  },
  {
   "cell_type": "code",
   "execution_count": 44,
   "id": "2f403563-bf8d-4e5e-aaae-57961befe7b2",
   "metadata": {},
   "outputs": [
    {
     "data": {
      "image/png": "[encoded data removed]",
      "text/plain": [
       "<Figure size 5040x720 with 1 Axes>"
      ]
     },
     "metadata": {
      "needs_background": "light"
     },
     "output_type": "display_data"
    }
   ],
   "source": [
    "draw_months = months\n",
    "draw_heatmap_data = heatmap_data[:,:4990]\n",
    "plt.figure(figsize=(70,10))\n",
    "ax = sns.heatmap(draw_heatmap_data, cmap=\"YlOrRd\", yticklabels=draw_months, vmin=0,vmax=0.05, cbar=False)"
   ]
  },
  {
   "cell_type": "code",
   "execution_count": null,
   "id": "766851e3-27a3-43dc-871b-ab6d4a8adee4",
   "metadata": {},
   "outputs": [],
   "source": []
  },
  {
   "cell_type": "code",
   "execution_count": 12,
   "id": "e4c43e7e-5517-4297-b123-e70029ac22db",
   "metadata": {},
   "outputs": [
    {
     "data": {
      "text/plain": [
       "29903"
      ]
     },
     "execution_count": 12,
     "metadata": {},
     "output_type": "execute_result"
    }
   ],
   "source": [
    "len(draw_heatmap_data[0])"
   ]
  },
  {
   "cell_type": "code",
   "execution_count": 33,
   "id": "32d04ae8-435a-4d69-be4e-b6548461c4d1",
   "metadata": {},
   "outputs": [
    {
     "name": "stdout",
     "output_type": "stream",
     "text": [
      "(19, 16514)\n"
     ]
    }
   ],
   "source": [
    "matrix = np.array(draw_heatmap_data)\n",
    "print(matrix[:, matrix.sum(0)>0].shape)\n",
    "matrix = matrix[:, matrix.sum(0)>0]"
   ]
  },
  {
   "cell_type": "code",
   "execution_count": 34,
   "id": "5e2d7334-c905-4268-9e34-fd286f66bdc1",
   "metadata": {},
   "outputs": [
    {
     "data": {
      "image/png": "[encoded data removed]",
      "text/plain": [
       "<Figure size 5040x720 with 1 Axes>"
      ]
     },
     "metadata": {
      "needs_background": "light"
     },
     "output_type": "display_data"
    }
   ],
   "source": [
    "draw_months = months\n",
    "draw_heatmap_data = matrix\n",
    "plt.figure(figsize=(70,10))\n",
    "ax = sns.heatmap(draw_heatmap_data, cmap=\"YlOrRd\", yticklabels=draw_months, vmin=0,vmax=0.05, cbar=False)"
   ]
  },
  {
   "cell_type": "code",
   "execution_count": 38,
   "id": "eebc71f9-70bc-4814-ae1e-08ea76f48508",
   "metadata": {},
   "outputs": [],
   "source": [
    "#ax.set_xticklabels(labels=genome_length, fontsize=16, fontproperties=en_font)\n",
    "#ax.set_yticklabels(labels=months, fontsize=16, fontproperties=en_font)\n",
    "ax.tick_params(top=True, bottom=False,\n",
    "               labeltop=True, labelbottom=False, labelsize=16)\n",
    "plt.setp(ax.get_xticklabels(), rotation=-30, ha=\"right\",\n",
    "         rotation_mode=\"anchor\")\n",
    "plt.setp(ax.get_yticklabels(), rotation=0, ha=\"right\",\n",
    "         rotation_mode=\"anchor\")\n",
    "\n",
    "cb=ax.figure.colorbar(ax.collections[0]) #显示colorbar\n",
    "cb.ax.tick_params(labelsize=16) #设置colorbar刻度字体大小\n",
    "\n",
    "plt.savefig(\n",
    "    \"test.png\", bbox_inches=\"tight\")\n",
    "plt.close()"
   ]
  },
  {
   "cell_type": "code",
   "execution_count": 51,
   "id": "d375afbd-76e7-4ad8-8ff4-0909ed756482",
   "metadata": {
    "scrolled": true,
    "tags": []
   },
   "outputs": [
    {
     "name": "stdout",
     "output_type": "stream",
     "text": [
      "read data from genome_list.tsv\n",
      "[1, 266, 13468, 21555, 21563, 25384, 25393, 26220, 26245, 26472, 26523, 27191, 27202, 27387, 27394, 27759, 27894, 28259, 28274, 29533, 29558, 29674, 29903] 23 [\"5'UTR\", 'orf1a', 'orf1b', 'NCR', 'S', 'NCR', 'ORF3a', 'NCR', 'E', 'NCR', 'M', 'NCR', 'ORF6', 'NCR', 'ORF7a', 'NCR', 'ORF8', 'NCR', 'N', 'NCR', 'ORF10', \"3'UTR\"] 22 11\n",
      "reading data grouped by month and continent\n"
     ]
    },
    {
     "name": "stderr",
     "output_type": "stream",
     "text": [
      "  1%|█▋                                                                                                                                                                                                    | 1/118 [00:00<00:20,  5.74it/s]"
     ]
    },
    {
     "name": "stdout",
     "output_type": "stream",
     "text": [
      "South America-202004.tsv\n",
      "Europe-202107.tsv\n"
     ]
    },
    {
     "name": "stderr",
     "output_type": "stream",
     "text": [
      "  2%|███▎                                                                                                                                                                                                  | 2/118 [00:04<04:45,  2.46s/it]"
     ]
    },
    {
     "name": "stdout",
     "output_type": "stream",
     "text": [
      "South America-202104.tsv\n"
     ]
    },
    {
     "name": "stderr",
     "output_type": "stream",
     "text": [
      "  3%|█████                                                                                                                                                                                                 | 3/118 [00:05<03:27,  1.80s/it]"
     ]
    },
    {
     "name": "stdout",
     "output_type": "stream",
     "text": [
      "Europe-202003.tsv\n"
     ]
    },
    {
     "name": "stderr",
     "output_type": "stream",
     "text": [
      "  3%|██████▋                                                                                                                                                                                               | 4/118 [00:06<02:40,  1.41s/it]"
     ]
    },
    {
     "name": "stdout",
     "output_type": "stream",
     "text": [
      "North America-202004.tsv\n"
     ]
    },
    {
     "name": "stderr",
     "output_type": "stream",
     "text": [
      "  4%|████████▍                                                                                                                                                                                             | 5/118 [00:06<02:12,  1.17s/it]"
     ]
    },
    {
     "name": "stdout",
     "output_type": "stream",
     "text": [
      "South America-202010.tsv\n"
     ]
    },
    {
     "name": "stderr",
     "output_type": "stream",
     "text": [
      "  6%|███████████▋                                                                                                                                                                                          | 7/118 [00:07<01:11,  1.56it/s]"
     ]
    },
    {
     "name": "stdout",
     "output_type": "stream",
     "text": [
      "Africa-202102.tsv\n",
      "South America-202003.tsv\n"
     ]
    },
    {
     "name": "stderr",
     "output_type": "stream",
     "text": [
      "  7%|█████████████▍                                                                                                                                                                                        | 8/118 [00:07<00:51,  2.12it/s]"
     ]
    },
    {
     "name": "stdout",
     "output_type": "stream",
     "text": [
      "Oceania-202007.tsv\n"
     ]
    },
    {
     "name": "stderr",
     "output_type": "stream",
     "text": [
      "  8%|███████████████                                                                                                                                                                                       | 9/118 [00:07<00:43,  2.51it/s]"
     ]
    },
    {
     "name": "stdout",
     "output_type": "stream",
     "text": [
      "Asia-202007.tsv\n"
     ]
    },
    {
     "name": "stderr",
     "output_type": "stream",
     "text": [
      "  8%|████████████████▋                                                                                                                                                                                    | 10/118 [00:08<00:46,  2.30it/s]"
     ]
    },
    {
     "name": "stdout",
     "output_type": "stream",
     "text": [
      "North America-202007.tsv\n"
     ]
    },
    {
     "name": "stderr",
     "output_type": "stream",
     "text": [
      "  9%|██████████████████▎                                                                                                                                                                                  | 11/118 [00:09<01:01,  1.75it/s]"
     ]
    },
    {
     "name": "stdout",
     "output_type": "stream",
     "text": [
      "Asia-202105.tsv\n"
     ]
    },
    {
     "name": "stderr",
     "output_type": "stream",
     "text": [
      " 10%|████████████████████                                                                                                                                                                                 | 12/118 [00:10<01:30,  1.17it/s]"
     ]
    },
    {
     "name": "stdout",
     "output_type": "stream",
     "text": [
      "Asia-202011.tsv\n"
     ]
    },
    {
     "name": "stderr",
     "output_type": "stream",
     "text": [
      " 11%|█████████████████████▋                                                                                                                                                                               | 13/118 [00:11<01:24,  1.24it/s]"
     ]
    },
    {
     "name": "stdout",
     "output_type": "stream",
     "text": [
      "Asia-202006.tsv\n"
     ]
    },
    {
     "name": "stderr",
     "output_type": "stream",
     "text": [
      " 12%|███████████████████████▎                                                                                                                                                                             | 14/118 [00:11<01:13,  1.42it/s]"
     ]
    },
    {
     "name": "stdout",
     "output_type": "stream",
     "text": [
      "North America-202104.tsv\n"
     ]
    },
    {
     "name": "stderr",
     "output_type": "stream",
     "text": [
      " 13%|█████████████████████████                                                                                                                                                                            | 15/118 [00:15<02:37,  1.53s/it]"
     ]
    },
    {
     "name": "stdout",
     "output_type": "stream",
     "text": [
      "South America-202103.tsv\n"
     ]
    },
    {
     "name": "stderr",
     "output_type": "stream",
     "text": [
      " 14%|██████████████████████████▋                                                                                                                                                                          | 16/118 [00:15<02:08,  1.26s/it]"
     ]
    },
    {
     "name": "stdout",
     "output_type": "stream",
     "text": [
      "Europe-202007.tsv\n"
     ]
    },
    {
     "name": "stderr",
     "output_type": "stream",
     "text": [
      " 14%|████████████████████████████▍                                                                                                                                                                        | 17/118 [00:16<01:45,  1.05s/it]"
     ]
    },
    {
     "name": "stdout",
     "output_type": "stream",
     "text": [
      "South America-202002.tsv\n",
      "North America-202108.tsv\n"
     ]
    },
    {
     "name": "stderr",
     "output_type": "stream",
     "text": [
      " 16%|███████████████████████████████▋                                                                                                                                                                     | 19/118 [00:20<02:24,  1.46s/it]"
     ]
    },
    {
     "name": "stdout",
     "output_type": "stream",
     "text": [
      "Asia-202009.tsv\n"
     ]
    },
    {
     "name": "stderr",
     "output_type": "stream",
     "text": [
      " 19%|████████████████████████████████████▋                                                                                                                                                                | 22/118 [00:20<01:12,  1.33it/s]"
     ]
    },
    {
     "name": "stdout",
     "output_type": "stream",
     "text": [
      "Oceania-202102.tsv\n",
      "Europe-202002.tsv\n",
      "Europe-202004.tsv\n"
     ]
    },
    {
     "name": "stderr",
     "output_type": "stream",
     "text": [
      " 19%|██████████████████████████████████████▍                                                                                                                                                              | 23/118 [00:21<01:15,  1.26it/s]"
     ]
    },
    {
     "name": "stdout",
     "output_type": "stream",
     "text": [
      "Europe-202012.tsv\n"
     ]
    },
    {
     "name": "stderr",
     "output_type": "stream",
     "text": [
      " 20%|████████████████████████████████████████                                                                                                                                                             | 24/118 [00:23<01:45,  1.13s/it]"
     ]
    },
    {
     "name": "stdout",
     "output_type": "stream",
     "text": [
      "Africa-202002.tsv\n",
      "North America-202003.tsv\n"
     ]
    },
    {
     "name": "stderr",
     "output_type": "stream",
     "text": [
      " 23%|█████████████████████████████████████████████                                                                                                                                                        | 27/118 [00:24<00:58,  1.55it/s]"
     ]
    },
    {
     "name": "stdout",
     "output_type": "stream",
     "text": [
      "Africa-202103.tsv\n",
      "Europe-202009.tsv\n"
     ]
    },
    {
     "name": "stderr",
     "output_type": "stream",
     "text": [
      " 24%|██████████████████████████████████████████████▋                                                                                                                                                      | 28/118 [00:25<01:08,  1.31it/s]"
     ]
    },
    {
     "name": "stdout",
     "output_type": "stream",
     "text": [
      "Asia-202104.tsv\n"
     ]
    },
    {
     "name": "stderr",
     "output_type": "stream",
     "text": [
      " 25%|████████████████████████████████████████████████▍                                                                                                                                                    | 29/118 [00:27<01:24,  1.05it/s]"
     ]
    },
    {
     "name": "stdout",
     "output_type": "stream",
     "text": [
      "Oceania-202106.tsv\n",
      "North America-202103.tsv\n"
     ]
    },
    {
     "name": "stderr",
     "output_type": "stream",
     "text": [
      " 27%|█████████████████████████████████████████████████████▍                                                                                                                                               | 32/118 [00:30<01:14,  1.15it/s]"
     ]
    },
    {
     "name": "stdout",
     "output_type": "stream",
     "text": [
      "Oceania-202009.tsv\n",
      "Asia-202101.tsv\n"
     ]
    },
    {
     "name": "stderr",
     "output_type": "stream",
     "text": [
      " 28%|███████████████████████████████████████████████████████                                                                                                                                              | 33/118 [00:31<01:20,  1.06it/s]"
     ]
    },
    {
     "name": "stdout",
     "output_type": "stream",
     "text": [
      "South America-202102.tsv\n"
     ]
    },
    {
     "name": "stderr",
     "output_type": "stream",
     "text": [
      " 30%|██████████████████████████████████████████████████████████▍                                                                                                                                          | 35/118 [00:31<00:51,  1.60it/s]"
     ]
    },
    {
     "name": "stdout",
     "output_type": "stream",
     "text": [
      "Africa-202006.tsv\n",
      "South America-202005.tsv\n"
     ]
    },
    {
     "name": "stderr",
     "output_type": "stream",
     "text": [
      " 31%|████████████████████████████████████████████████████████████                                                                                                                                         | 36/118 [00:32<00:41,  1.99it/s]"
     ]
    },
    {
     "name": "stdout",
     "output_type": "stream",
     "text": [
      "Asia-202102.tsv\n"
     ]
    },
    {
     "name": "stderr",
     "output_type": "stream",
     "text": [
      " 32%|███████████████████████████████████████████████████████████████▍                                                                                                                                     | 38/118 [00:33<00:40,  1.98it/s]"
     ]
    },
    {
     "name": "stdout",
     "output_type": "stream",
     "text": [
      "Africa-202008.tsv\n",
      "Asia-202005.tsv\n"
     ]
    },
    {
     "name": "stderr",
     "output_type": "stream",
     "text": [
      " 33%|█████████████████████████████████████████████████████████████████                                                                                                                                    | 39/118 [00:33<00:39,  2.01it/s]"
     ]
    },
    {
     "name": "stdout",
     "output_type": "stream",
     "text": [
      "North America-202106.tsv\n"
     ]
    },
    {
     "name": "stderr",
     "output_type": "stream",
     "text": [
      " 35%|████████████████████████████████████████████████████████████████████▍                                                                                                                                | 41/118 [00:35<00:56,  1.36it/s]"
     ]
    },
    {
     "name": "stdout",
     "output_type": "stream",
     "text": [
      "Africa-202009.tsv\n",
      "Europe-202101.tsv\n"
     ]
    },
    {
     "name": "stderr",
     "output_type": "stream",
     "text": [
      " 36%|██████████████████████████████████████████████████████████████████████                                                                                                                               | 42/118 [00:38<01:45,  1.39s/it]"
     ]
    },
    {
     "name": "stdout",
     "output_type": "stream",
     "text": [
      "Africa-202105.tsv\n"
     ]
    },
    {
     "name": "stderr",
     "output_type": "stream",
     "text": [
      " 38%|███████████████████████████████████████████████████████████████████████████▏                                                                                                                         | 45/118 [00:39<00:44,  1.66it/s]"
     ]
    },
    {
     "name": "stdout",
     "output_type": "stream",
     "text": [
      "Africa-202004.tsv\n",
      "Oceania-202010.tsv\n",
      "North America-202012.tsv\n"
     ]
    },
    {
     "name": "stderr",
     "output_type": "stream",
     "text": [
      " 39%|████████████████████████████████████████████████████████████████████████████▊                                                                                                                        | 46/118 [00:40<01:01,  1.17it/s]"
     ]
    },
    {
     "name": "stdout",
     "output_type": "stream",
     "text": [
      "Africa-202007.tsv\n"
     ]
    },
    {
     "name": "stderr",
     "output_type": "stream",
     "text": [
      " 42%|█████████████████████████████████████████████████████████████████████████████████▊                                                                                                                   | 49/118 [00:41<00:30,  2.30it/s]"
     ]
    },
    {
     "name": "stdout",
     "output_type": "stream",
     "text": [
      "Oceania-202006.tsv\n",
      "Oceania-202011.tsv\n",
      "Oceania-202108.tsv\n"
     ]
    },
    {
     "name": "stderr",
     "output_type": "stream",
     "text": [
      " 42%|███████████████████████████████████████████████████████████████████████████████████▍                                                                                                                 | 50/118 [00:41<00:24,  2.74it/s]"
     ]
    },
    {
     "name": "stdout",
     "output_type": "stream",
     "text": [
      "Asia-202012.tsv\n"
     ]
    },
    {
     "name": "stderr",
     "output_type": "stream",
     "text": [
      " 44%|██████████████████████████████████████████████████████████████████████████████████████▊                                                                                                              | 52/118 [00:42<00:26,  2.46it/s]"
     ]
    },
    {
     "name": "stdout",
     "output_type": "stream",
     "text": [
      "Asia-202002.tsv\n",
      "Africa-202003.tsv\n",
      "Oceania-202012.tsv\n"
     ]
    },
    {
     "name": "stderr",
     "output_type": "stream",
     "text": [
      " 46%|██████████████████████████████████████████████████████████████████████████████████████████▏                                                                                                          | 54/118 [00:42<00:17,  3.72it/s]"
     ]
    },
    {
     "name": "stdout",
     "output_type": "stream",
     "text": [
      "Europe-202103.tsv\n"
     ]
    },
    {
     "name": "stderr",
     "output_type": "stream",
     "text": [
      " 47%|███████████████████████████████████████████████████████████████████████████████████████████▊                                                                                                         | 55/118 [00:46<01:15,  1.19s/it]"
     ]
    },
    {
     "name": "stdout",
     "output_type": "stream",
     "text": [
      "Africa-202012.tsv\n"
     ]
    },
    {
     "name": "stderr",
     "output_type": "stream",
     "text": [
      " 48%|███████████████████████████████████████████████████████████████████████████████████████████████▏                                                                                                     | 57/118 [00:47<00:46,  1.32it/s]"
     ]
    },
    {
     "name": "stdout",
     "output_type": "stream",
     "text": [
      "Oceania-202104.tsv\n",
      "Africa-202108.tsv\n"
     ]
    },
    {
     "name": "stderr",
     "output_type": "stream",
     "text": [
      " 49%|████████████████████████████████████████████████████████████████████████████████████████████████▊                                                                                                    | 58/118 [00:47<00:36,  1.65it/s]"
     ]
    },
    {
     "name": "stdout",
     "output_type": "stream",
     "text": [
      "North America-202001.tsv\n",
      "Oceania-202001.tsv\n",
      "North America-202101.tsv\n"
     ]
    },
    {
     "name": "stderr",
     "output_type": "stream",
     "text": [
      " 52%|█████████████████████████████████████████████████████████████████████████████████████████████████████▊                                                                                               | 61/118 [00:49<00:38,  1.50it/s]"
     ]
    },
    {
     "name": "stdout",
     "output_type": "stream",
     "text": [
      "Asia-202010.tsv\n"
     ]
    },
    {
     "name": "stderr",
     "output_type": "stream",
     "text": [
      " 53%|███████████████████████████████████████████████████████████████████████████████████████████████████████▌                                                                                             | 62/118 [00:50<00:35,  1.57it/s]"
     ]
    },
    {
     "name": "stdout",
     "output_type": "stream",
     "text": [
      "Asia-202107.tsv\n"
     ]
    },
    {
     "name": "stderr",
     "output_type": "stream",
     "text": [
      " 53%|█████████████████████████████████████████████████████████████████████████████████████████████████████████▏                                                                                           | 63/118 [00:51<00:43,  1.25it/s]"
     ]
    },
    {
     "name": "stdout",
     "output_type": "stream",
     "text": [
      "South America-202009.tsv\n"
     ]
    },
    {
     "name": "stderr",
     "output_type": "stream",
     "text": [
      " 54%|██████████████████████████████████████████████████████████████████████████████████████████████████████████▊                                                                                          | 64/118 [00:51<00:35,  1.50it/s]"
     ]
    },
    {
     "name": "stdout",
     "output_type": "stream",
     "text": [
      "Europe-202011.tsv\n"
     ]
    },
    {
     "name": "stderr",
     "output_type": "stream",
     "text": [
      " 55%|████████████████████████████████████████████████████████████████████████████████████████████████████████████▌                                                                                        | 65/118 [00:53<00:52,  1.02it/s]"
     ]
    },
    {
     "name": "stdout",
     "output_type": "stream",
     "text": [
      "Europe-202006.tsv\n"
     ]
    },
    {
     "name": "stderr",
     "output_type": "stream",
     "text": [
      " 56%|██████████████████████████████████████████████████████████████████████████████████████████████████████████████▏                                                                                      | 66/118 [00:54<00:46,  1.11it/s]"
     ]
    },
    {
     "name": "stdout",
     "output_type": "stream",
     "text": [
      "Asia-202004.tsv\n"
     ]
    },
    {
     "name": "stderr",
     "output_type": "stream",
     "text": [
      " 57%|███████████████████████████████████████████████████████████████████████████████████████████████████████████████▊                                                                                     | 67/118 [00:54<00:38,  1.32it/s]"
     ]
    },
    {
     "name": "stdout",
     "output_type": "stream",
     "text": [
      "North America-202002.tsv\n",
      "Africa-202101.tsv\n"
     ]
    },
    {
     "name": "stderr",
     "output_type": "stream",
     "text": [
      " 58%|███████████████████████████████████████████████████████████████████████████████████████████████████████████████████▏                                                                                 | 69/118 [00:55<00:24,  1.97it/s]"
     ]
    },
    {
     "name": "stdout",
     "output_type": "stream",
     "text": [
      "South America-202105.tsv\n"
     ]
    },
    {
     "name": "stderr",
     "output_type": "stream",
     "text": [
      " 59%|████████████████████████████████████████████████████████████████████████████████████████████████████████████████████▊                                                                                | 70/118 [00:56<00:30,  1.55it/s]"
     ]
    },
    {
     "name": "stdout",
     "output_type": "stream",
     "text": [
      "Europe-202105.tsv\n"
     ]
    },
    {
     "name": "stderr",
     "output_type": "stream",
     "text": [
      " 61%|████████████████████████████████████████████████████████████████████████████████████████████████████████████████████████▏                                                                            | 72/118 [01:00<00:48,  1.06s/it]"
     ]
    },
    {
     "name": "stdout",
     "output_type": "stream",
     "text": [
      "Oceania-202101.tsv\n",
      "North America-202107.tsv\n"
     ]
    },
    {
     "name": "stderr",
     "output_type": "stream",
     "text": [
      " 62%|█████████████████████████████████████████████████████████████████████████████████████████████████████████████████████████▊                                                                           | 73/118 [01:03<01:12,  1.61s/it]"
     ]
    },
    {
     "name": "stdout",
     "output_type": "stream",
     "text": [
      "Oceania-202002.tsv\n",
      "South America-202106.tsv\n"
     ]
    },
    {
     "name": "stderr",
     "output_type": "stream",
     "text": [
      " 64%|█████████████████████████████████████████████████████████████████████████████████████████████████████████████████████████████▏                                                                       | 75/118 [01:04<00:49,  1.15s/it]"
     ]
    },
    {
     "name": "stdout",
     "output_type": "stream",
     "text": [
      "Africa-202107.tsv\n"
     ]
    },
    {
     "name": "stderr",
     "output_type": "stream",
     "text": [
      " 64%|██████████████████████████████████████████████████████████████████████████████████████████████████████████████████████████████▉                                                                      | 76/118 [01:04<00:39,  1.06it/s]"
     ]
    },
    {
     "name": "stdout",
     "output_type": "stream",
     "text": [
      "North America-202006.tsv\n"
     ]
    },
    {
     "name": "stderr",
     "output_type": "stream",
     "text": [
      " 65%|████████████████████████████████████████████████████████████████████████████████████████████████████████████████████████████████▌                                                                    | 77/118 [01:05<00:36,  1.11it/s]"
     ]
    },
    {
     "name": "stdout",
     "output_type": "stream",
     "text": [
      "North America-202008.tsv\n"
     ]
    },
    {
     "name": "stderr",
     "output_type": "stream",
     "text": [
      " 67%|███████████████████████████████████████████████████████████████████████████████████████████████████████████████████████████████████▉                                                                 | 79/118 [01:06<00:26,  1.48it/s]"
     ]
    },
    {
     "name": "stdout",
     "output_type": "stream",
     "text": [
      "Oceania-202103.tsv\n",
      "Africa-202010.tsv\n"
     ]
    },
    {
     "name": "stderr",
     "output_type": "stream",
     "text": [
      " 70%|██████████████████████████████████████████████████████████████████████████████████████████████████████████████████████████████████████████▌                                                          | 83/118 [01:06<00:09,  3.86it/s]"
     ]
    },
    {
     "name": "stdout",
     "output_type": "stream",
     "text": [
      "Asia-202001.tsv\n",
      "Europe-202001.tsv\n",
      "Oceania-202005.tsv\n",
      "South America-202108.tsv\n",
      "Asia-202106.tsv\n"
     ]
    },
    {
     "name": "stderr",
     "output_type": "stream",
     "text": [
      " 72%|█████████████████████████████████████████████████████████████████████████████████████████████████████████████████████████████████████████████▉                                                       | 85/118 [01:08<00:18,  1.80it/s]"
     ]
    },
    {
     "name": "stdout",
     "output_type": "stream",
     "text": [
      "North America-202009.tsv\n"
     ]
    },
    {
     "name": "stderr",
     "output_type": "stream",
     "text": [
      " 73%|███████████████████████████████████████████████████████████████████████████████████████████████████████████████████████████████████████████████▌                                                     | 86/118 [01:09<00:19,  1.67it/s]"
     ]
    },
    {
     "name": "stdout",
     "output_type": "stream",
     "text": [
      "North America-202105.tsv\n"
     ]
    },
    {
     "name": "stderr",
     "output_type": "stream",
     "text": [
      " 74%|█████████████████████████████████████████████████████████████████████████████████████████████████████████████████████████████████████████████████▏                                                   | 87/118 [01:12<00:32,  1.06s/it]"
     ]
    },
    {
     "name": "stdout",
     "output_type": "stream",
     "text": [
      "North America-202010.tsv\n"
     ]
    },
    {
     "name": "stderr",
     "output_type": "stream",
     "text": [
      " 75%|██████████████████████████████████████████████████████████████████████████████████████████████████████████████████████████████████████████████████▉                                                  | 88/118 [01:13<00:31,  1.05s/it]"
     ]
    },
    {
     "name": "stdout",
     "output_type": "stream",
     "text": [
      "Europe-202008.tsv\n"
     ]
    },
    {
     "name": "stderr",
     "output_type": "stream",
     "text": [
      " 75%|████████████████████████████████████████████████████████████████████████████████████████████████████████████████████████████████████████████████████▌                                                | 89/118 [01:14<00:28,  1.01it/s]"
     ]
    },
    {
     "name": "stdout",
     "output_type": "stream",
     "text": [
      "Asia-202003.tsv\n"
     ]
    },
    {
     "name": "stderr",
     "output_type": "stream",
     "text": [
      " 76%|██████████████████████████████████████████████████████████████████████████████████████████████████████████████████████████████████████████████████████▎                                              | 90/118 [01:14<00:22,  1.26it/s]"
     ]
    },
    {
     "name": "stdout",
     "output_type": "stream",
     "text": [
      "South America-202006.tsv\n"
     ]
    },
    {
     "name": "stderr",
     "output_type": "stream",
     "text": [
      " 77%|███████████████████████████████████████████████████████████████████████████████████████████████████████████████████████████████████████████████████████▉                                             | 91/118 [01:14<00:17,  1.58it/s]"
     ]
    },
    {
     "name": "stdout",
     "output_type": "stream",
     "text": [
      "Europe-202104.tsv\n"
     ]
    },
    {
     "name": "stderr",
     "output_type": "stream",
     "text": [
      " 78%|█████████████████████████████████████████████████████████████████████████████████████████████████████████████████████████████████████████████████████████▌                                           | 92/118 [01:18<00:39,  1.53s/it]"
     ]
    },
    {
     "name": "stdout",
     "output_type": "stream",
     "text": [
      "North America-202005.tsv\n"
     ]
    },
    {
     "name": "stderr",
     "output_type": "stream",
     "text": [
      " 79%|███████████████████████████████████████████████████████████████████████████████████████████████████████████████████████████████████████████████████████████▎                                         | 93/118 [01:19<00:32,  1.29s/it]"
     ]
    },
    {
     "name": "stdout",
     "output_type": "stream",
     "text": [
      "South America-202107.tsv\n"
     ]
    },
    {
     "name": "stderr",
     "output_type": "stream",
     "text": [
      " 80%|████████████████████████████████████████████████████████████████████████████████████████████████████████████████████████████████████████████████████████████▉                                        | 94/118 [01:20<00:29,  1.23s/it]"
     ]
    },
    {
     "name": "stdout",
     "output_type": "stream",
     "text": [
      "North America-202011.tsv\n"
     ]
    },
    {
     "name": "stderr",
     "output_type": "stream",
     "text": [
      " 81%|██████████████████████████████████████████████████████████████████████████████████████████████████████████████████████████████████████████████████████████████▌                                      | 95/118 [01:21<00:29,  1.27s/it]"
     ]
    },
    {
     "name": "stdout",
     "output_type": "stream",
     "text": [
      "Europe-202010.tsv\n"
     ]
    },
    {
     "name": "stderr",
     "output_type": "stream",
     "text": [
      " 82%|█████████████████████████████████████████████████████████████████████████████████████████████████████████████████████████████████████████████████████████████████▉                                   | 97/118 [01:23<00:21,  1.01s/it]"
     ]
    },
    {
     "name": "stdout",
     "output_type": "stream",
     "text": [
      "Oceania-202003.tsv\n",
      "Europe-202005.tsv\n"
     ]
    },
    {
     "name": "stderr",
     "output_type": "stream",
     "text": [
      " 84%|█████████████████████████████████████████████████████████████████████████████████████████████████████████████████████████████████████████████████████████████████████▎                               | 99/118 [01:24<00:13,  1.46it/s]"
     ]
    },
    {
     "name": "stdout",
     "output_type": "stream",
     "text": [
      "Africa-202011.tsv\n",
      "Asia-202108.tsv\n"
     ]
    },
    {
     "name": "stderr",
     "output_type": "stream",
     "text": [
      " 85%|██████████████████████████████████████████████████████████████████████████████████████████████████████████████████████████████████████████████████████████████████████                              | 100/118 [01:25<00:17,  1.00it/s]"
     ]
    },
    {
     "name": "stdout",
     "output_type": "stream",
     "text": [
      "Africa-202104.tsv\n"
     ]
    },
    {
     "name": "stderr",
     "output_type": "stream",
     "text": [
      " 86%|███████████████████████████████████████████████████████████████████████████████████████████████████████████████████████████████████████████████████████████████████████▊                            | 101/118 [01:26<00:13,  1.30it/s]"
     ]
    },
    {
     "name": "stdout",
     "output_type": "stream",
     "text": [
      "South America-202101.tsv\n"
     ]
    },
    {
     "name": "stderr",
     "output_type": "stream",
     "text": [
      " 86%|█████████████████████████████████████████████████████████████████████████████████████████████████████████████████████████████████████████████████████████████████████████▍                          | 102/118 [01:26<00:10,  1.47it/s]"
     ]
    },
    {
     "name": "stdout",
     "output_type": "stream",
     "text": [
      "Asia-202103.tsv\n"
     ]
    },
    {
     "name": "stderr",
     "output_type": "stream",
     "text": [
      " 87%|███████████████████████████████████████████████████████████████████████████████████████████████████████████████████████████████████████████████████████████████████████████                         | 103/118 [01:27<00:11,  1.31it/s]"
     ]
    },
    {
     "name": "stdout",
     "output_type": "stream",
     "text": [
      "North America-202102.tsv\n"
     ]
    },
    {
     "name": "stderr",
     "output_type": "stream",
     "text": [
      " 88%|████████████████████████████████████████████████████████████████████████████████████████████████████████████████████████████████████████████████████████████████████████████▋                       | 104/118 [01:29<00:16,  1.19s/it]"
     ]
    },
    {
     "name": "stdout",
     "output_type": "stream",
     "text": [
      "Europe-202106.tsv\n"
     ]
    },
    {
     "name": "stderr",
     "output_type": "stream",
     "text": [
      " 91%|█████████████████████████████████████████████████████████████████████████████████████████████████████████████████████████████████████████████████████████████████████████████████▋                  | 107/118 [01:32<00:10,  1.00it/s]"
     ]
    },
    {
     "name": "stdout",
     "output_type": "stream",
     "text": [
      "Oceania-202105.tsv\n",
      "Oceania-202004.tsv\n",
      "South America-202008.tsv\n"
     ]
    },
    {
     "name": "stderr",
     "output_type": "stream",
     "text": [
      " 92%|███████████████████████████████████████████████████████████████████████████████████████████████████████████████████████████████████████████████████████████████████████████████████▍                | 108/118 [01:33<00:08,  1.21it/s]"
     ]
    },
    {
     "name": "stdout",
     "output_type": "stream",
     "text": [
      "Europe-202102.tsv\n"
     ]
    },
    {
     "name": "stderr",
     "output_type": "stream",
     "text": [
      " 92%|█████████████████████████████████████████████████████████████████████████████████████████████████████████████████████████████████████████████████████████████████████████████████████               | 109/118 [01:36<00:13,  1.47s/it]"
     ]
    },
    {
     "name": "stdout",
     "output_type": "stream",
     "text": [
      "Europe-202108.tsv\n"
     ]
    },
    {
     "name": "stderr",
     "output_type": "stream",
     "text": [
      " 94%|████████████████████████████████████████████████████████████████████████████████████████████████████████████████████████████████████████████████████████████████████████████████████████▎           | 111/118 [01:41<00:12,  1.83s/it]"
     ]
    },
    {
     "name": "stdout",
     "output_type": "stream",
     "text": [
      "Africa-202005.tsv\n",
      "South America-202012.tsv\n"
     ]
    },
    {
     "name": "stderr",
     "output_type": "stream",
     "text": [
      " 95%|██████████████████████████████████████████████████████████████████████████████████████████████████████████████████████████████████████████████████████████████████████████████████████████          | 112/118 [01:42<00:08,  1.41s/it]"
     ]
    },
    {
     "name": "stdout",
     "output_type": "stream",
     "text": [
      "South America-202007.tsv\n"
     ]
    },
    {
     "name": "stderr",
     "output_type": "stream",
     "text": [
      " 97%|█████████████████████████████████████████████████████████████████████████████████████████████████████████████████████████████████████████████████████████████████████████████████████████████▎      | 114/118 [01:42<00:03,  1.23it/s]"
     ]
    },
    {
     "name": "stdout",
     "output_type": "stream",
     "text": [
      "Oceania-202008.tsv\n",
      "Oceania-202107.tsv\n"
     ]
    },
    {
     "name": "stderr",
     "output_type": "stream",
     "text": [
      " 97%|███████████████████████████████████████████████████████████████████████████████████████████████████████████████████████████████████████████████████████████████████████████████████████████████     | 115/118 [01:42<00:01,  1.65it/s]"
     ]
    },
    {
     "name": "stdout",
     "output_type": "stream",
     "text": [
      "South America-202011.tsv\n"
     ]
    },
    {
     "name": "stderr",
     "output_type": "stream",
     "text": [
      " 98%|████████████████████████████████████████████████████████████████████████████████████████████████████████████████████████████████████████████████████████████████████████████████████████████████▋   | 116/118 [01:43<00:01,  1.97it/s]"
     ]
    },
    {
     "name": "stdout",
     "output_type": "stream",
     "text": [
      "Asia-202008.tsv\n"
     ]
    },
    {
     "name": "stderr",
     "output_type": "stream",
     "text": [
      " 99%|██████████████████████████████████████████████████████████████████████████████████████████████████████████████████████████████████████████████████████████████████████████████████████████████████▎ | 117/118 [01:43<00:00,  1.93it/s]"
     ]
    },
    {
     "name": "stdout",
     "output_type": "stream",
     "text": [
      "Africa-202106.tsv\n"
     ]
    },
    {
     "name": "stderr",
     "output_type": "stream",
     "text": [
      "100%|████████████████████████████████████████████████████████████████████████████████████████████████████████████████████████████████████████████████████████████████████████████████████████████████████| 118/118 [01:43<00:00,  1.14it/s]\n",
      "  0%|                                                                                                                                                                                                                | 0/6 [00:00<?, ?it/s]"
     ]
    },
    {
     "name": "stdout",
     "output_type": "stream",
     "text": [
      "South America\n",
      "2020-02\n",
      "29903\n",
      "2020-03\n",
      "29903\n",
      "2020-04\n",
      "29903\n",
      "2020-05\n",
      "29903\n",
      "2020-06\n",
      "29903\n",
      "2020-07\n",
      "29903\n",
      "2020-08\n",
      "29903\n",
      "2020-09\n",
      "29903\n",
      "2020-10\n",
      "29903\n",
      "2020-11\n",
      "29903\n",
      "2020-12\n",
      "29903\n",
      "2021-01\n",
      "29903\n",
      "2021-02\n",
      "29903\n",
      "2021-03\n",
      "29903\n",
      "2021-04\n",
      "29903\n",
      "2021-05\n",
      "29903\n",
      "2021-06\n",
      "29903\n",
      "2021-07\n",
      "29903\n",
      "2021-08\n",
      "29903\n",
      "Start drawing\n"
     ]
    },
    {
     "name": "stderr",
     "output_type": "stream",
     "text": [
      " 17%|█████████████████████████████████▎                                                                                                                                                                      | 1/6 [00:17<01:26, 17.29s/it]"
     ]
    },
    {
     "name": "stdout",
     "output_type": "stream",
     "text": [
      "Europe\n",
      "2020-01\n",
      "29903\n",
      "2020-02\n",
      "29903\n",
      "2020-03\n",
      "29903\n",
      "2020-04\n",
      "29903\n",
      "2020-05\n",
      "29903\n",
      "2020-06\n",
      "29903\n",
      "2020-07\n",
      "29903\n",
      "2020-08\n",
      "29903\n",
      "2020-09\n",
      "29903\n",
      "2020-10\n",
      "29903\n",
      "2020-11\n",
      "29903\n",
      "2020-12\n",
      "29903\n",
      "2021-01\n",
      "29903\n",
      "2021-02\n",
      "29903\n",
      "2021-03\n",
      "29903\n",
      "2021-04\n",
      "29903\n",
      "2021-05\n",
      "29903\n",
      "2021-06\n",
      "29903\n",
      "2021-07\n",
      "29903\n",
      "2021-08\n",
      "29903\n",
      "Start drawing\n"
     ]
    },
    {
     "name": "stderr",
     "output_type": "stream",
     "text": [
      " 33%|██████████████████████████████████████████████████████████████████▋                                                                                                                                     | 2/6 [00:34<01:08, 17.25s/it]"
     ]
    },
    {
     "name": "stdout",
     "output_type": "stream",
     "text": [
      "North America\n",
      "2020-01\n",
      "29903\n",
      "2020-02\n",
      "29903\n",
      "2020-03\n",
      "29903\n",
      "2020-04\n",
      "29903\n",
      "2020-05\n",
      "29903\n",
      "2020-06\n",
      "29903\n",
      "2020-07\n",
      "29903\n",
      "2020-08\n",
      "29903\n",
      "2020-09\n",
      "29903\n",
      "2020-10\n",
      "29903\n",
      "2020-11\n",
      "29903\n",
      "2020-12\n",
      "29903\n",
      "2021-01\n",
      "29903\n",
      "2021-02\n",
      "29903\n",
      "2021-03\n",
      "29903\n",
      "2021-04\n",
      "29903\n",
      "2021-05\n",
      "29903\n",
      "2021-06\n",
      "29903\n",
      "2021-07\n",
      "29903\n",
      "2021-08\n",
      "29903\n",
      "Start drawing\n"
     ]
    },
    {
     "name": "stderr",
     "output_type": "stream",
     "text": [
      " 50%|████████████████████████████████████████████████████████████████████████████████████████████████████                                                                                                    | 3/6 [00:51<00:51, 17.23s/it]"
     ]
    },
    {
     "name": "stdout",
     "output_type": "stream",
     "text": [
      "Africa\n",
      "2020-02\n",
      "29903\n",
      "2020-03\n",
      "29903\n",
      "2020-04\n",
      "29903\n",
      "2020-05\n",
      "29903\n",
      "2020-06\n",
      "29903\n",
      "2020-07\n",
      "29903\n",
      "2020-08\n",
      "29903\n",
      "2020-09\n",
      "29903\n",
      "2020-10\n",
      "29903\n",
      "2020-11\n",
      "29903\n",
      "2020-12\n",
      "29903\n",
      "2021-01\n",
      "29903\n",
      "2021-02\n",
      "29903\n",
      "2021-03\n",
      "29903\n",
      "2021-04\n",
      "29903\n",
      "2021-05\n",
      "29903\n",
      "2021-06\n",
      "29903\n",
      "2021-07\n",
      "29903\n",
      "2021-08\n",
      "29903\n",
      "Start drawing\n"
     ]
    },
    {
     "name": "stderr",
     "output_type": "stream",
     "text": [
      " 67%|█████████████████████████████████████████████████████████████████████████████████████████████████████████████████████████████████████▎                                                                  | 4/6 [01:08<00:34, 17.17s/it]"
     ]
    },
    {
     "name": "stdout",
     "output_type": "stream",
     "text": [
      "Oceania\n",
      "2020-01\n",
      "29903\n",
      "2020-02\n",
      "29903\n",
      "2020-03\n",
      "29903\n",
      "2020-04\n",
      "29903\n",
      "2020-05\n",
      "29903\n",
      "2020-06\n",
      "29903\n",
      "2020-07\n",
      "29903\n",
      "2020-08\n",
      "29903\n",
      "2020-09\n",
      "29903\n",
      "2020-10\n",
      "29903\n",
      "2020-11\n",
      "29903\n",
      "2020-12\n",
      "29903\n",
      "2021-01\n",
      "29903\n",
      "2021-02\n",
      "29903\n",
      "2021-03\n",
      "29903\n",
      "2021-04\n",
      "29903\n",
      "2021-05\n",
      "29903\n",
      "2021-06\n",
      "29903\n",
      "2021-07\n",
      "29903\n",
      "2021-08\n",
      "29903\n",
      "Start drawing\n"
     ]
    },
    {
     "name": "stderr",
     "output_type": "stream",
     "text": [
      " 83%|██████████████████████████████████████████████████████████████████████████████████████████████████████████████████████████████████████████████████████████████████████▋                                 | 5/6 [01:26<00:17, 17.23s/it]"
     ]
    },
    {
     "name": "stdout",
     "output_type": "stream",
     "text": [
      "Asia\n",
      "2020-01\n",
      "29903\n",
      "2020-02\n",
      "29903\n",
      "2020-03\n",
      "29903\n",
      "2020-04\n",
      "29903\n",
      "2020-05\n",
      "29903\n",
      "2020-06\n",
      "29903\n",
      "2020-07\n",
      "29903\n",
      "2020-08\n",
      "29903\n",
      "2020-09\n",
      "29903\n",
      "2020-10\n",
      "29903\n",
      "2020-11\n",
      "29903\n",
      "2020-12\n",
      "29903\n",
      "2021-01\n",
      "29903\n",
      "2021-02\n",
      "29903\n",
      "2021-03\n",
      "29903\n",
      "2021-04\n",
      "29903\n",
      "2021-05\n",
      "29903\n",
      "2021-06\n",
      "29903\n",
      "2021-07\n",
      "29903\n",
      "2021-08\n",
      "29903\n",
      "Start drawing\n"
     ]
    },
    {
     "name": "stderr",
     "output_type": "stream",
     "text": [
      "100%|████████████████████████████████████████████████████████████████████████████████████████████████████████████████████████████████████████████████████████████████████████████████████████████████████████| 6/6 [01:43<00:00, 17.26s/it]\n"
     ]
    }
   ],
   "source": [
    "import numpy as np\n",
    "import matplotlib.pyplot as plt\n",
    "import pandas as pd\n",
    "from matplotlib.pyplot import MultipleLocator\n",
    "from matplotlib.ticker import FormatStrFormatter\n",
    "import matplotlib.patches as mpatches\n",
    "from tqdm import tqdm\n",
    "import matplotlib as mpl\n",
    "import os\n",
    "import seaborn as sns\n",
    "from collections import defaultdict\n",
    "from matplotlib.font_manager import FontProperties\n",
    "\n",
    "continent_month_files = \"../../data/input/continent_month_split/\"\n",
    "scatter_figures_output = \"../../data/output/plots/scatter_figures/\"\n",
    "bounds_file_path = \"../../data/input/genome_list.tsv\"\n",
    "\n",
    "def get_en_font():\n",
    "    font = FontProperties()\n",
    "    font.set_family('serif')\n",
    "    font.set_name('Times New Roman')\n",
    "    return font\n",
    "\n",
    "en_font = get_en_font()\n",
    "\n",
    "# 设置图表正常显示中文\n",
    "plt.rcParams['font.family'] = 'sans-serif'\n",
    "# plt.rcParams['font.sans-serif'] = ['SimSun']\n",
    "plt.rcParams['font.sans-serif'] = ['Times New Roman']\n",
    "plt.rcParams[\"font.style\"] = \"normal\"\n",
    "plt.rcParams[\"axes.unicode_minus\"]=False\n",
    "\n",
    "print(\"read data from genome_list.tsv\")\n",
    "data = pd.read_csv(bounds_file_path, sep=\"\\t\", header=None,names=['id', 'proteinName', 'gene', 'index'])\n",
    "bounds = [1]\n",
    "legend_labels = [\"orf1a (266..13468)\",\"orf1b (13468..21555)\"]\n",
    "labels = [\"5'UTR\",\"orf1a\",\"orf1b\",\"NCR\"]\n",
    "for row_index, row in data.iterrows():\n",
    "    if row[\"gene\"] == \"orf1ab\":\n",
    "        temp = row[\"index\"].split(\",\")\n",
    "        for item in temp:\n",
    "            index_list = item.split(\"..\")\n",
    "            for index in index_list:\n",
    "                if int(index) not in bounds:\n",
    "                    bounds.append(int(index))\n",
    "    else:\n",
    "        legend_labels.append(row[\"gene\"] + \" (\" + row[\"index\"] + \")\")\n",
    "        labels.append(row[\"gene\"])\n",
    "        if row[\"gene\"] == \"ORF10\":\n",
    "            labels.append(\"3'UTR\")\n",
    "        else:\n",
    "            labels.append(\"NCR\")\n",
    "        temp = row[\"index\"].split(\"..\")\n",
    "        for item in temp:\n",
    "            if int(item) not in bounds:\n",
    "                bounds.append(int(item))\n",
    "bounds.append(29903)\n",
    "colors = ['white', '#63b2ee','#76da91','white','#f8cb7f','white','#f89588','white','#7cd6cf','white','#9192ab','white','#7898e1','white', '#efa666', 'white','#eddd86','white','#9987ce','white', '#63b2ee', 'white']\n",
    "legend_colors = [c for c in colors if c != \"white\"]\n",
    "print(bounds,len(bounds), labels, len(labels), len(legend_colors))\n",
    "\n",
    "# 对colorbar进行切割\n",
    "bounds_1 = bounds[0:2]\n",
    "bounds_1.append(10000)\n",
    "colors_1 = colors[0:2]\n",
    "bounds_2 = [1]\n",
    "bounds_2.append(bounds[2]-10000)\n",
    "bounds_2.append(10000)\n",
    "colors_2 = colors[1:3]\n",
    "\n",
    "print(\"reading data grouped by month and continent\")\n",
    "# 声明一个dict类型的空dict\n",
    "continent_month_dict = defaultdict(lambda : {})\n",
    "# 声明heatmap的横轴数组(29903bp)\n",
    "genome_length = [i+1 for i in range(29903)]\n",
    "\n",
    "splits = os.listdir(continent_month_files)\n",
    "for split in tqdm(splits):\n",
    "    print(split)\n",
    "    # 获取文件名的大洲与月份\n",
    "    continent, month = split.split(\".\")[0].split(\"-\")\n",
    "    month = month[0:4] + \"-\" + month[4:]\n",
    "    # 读取文件数据\n",
    "    data = pd.read_csv(continent_month_files + split, sep=\"\\t\")\n",
    "    # # 将position的类型改为str\n",
    "    # data[\"Position\"] = data[\"Position\"].astype(str)\n",
    "    # 计算当月的样本数\n",
    "    sample_num = len(data[\"Id\"].unique())\n",
    "    # 计算各个位点的出现个数并按照位点次序排序\n",
    "    pos_series = data[\"Position\"].value_counts().sort_index()\n",
    "    # 判断是否存在position=0，如果有就删除该行\n",
    "    keys = pos_series.keys()\n",
    "    if 0 in keys:\n",
    "        pos_series = pos_series.drop(0)\n",
    "    # print(pos_series)\n",
    "    pos_fre_series = pos_series / sample_num\n",
    "    pos_indexs = list(pos_fre_series.keys())\n",
    "    fre_res = []\n",
    "    for i in genome_length:\n",
    "        if i in pos_indexs:\n",
    "            fre_res.append(round(pos_fre_series[i],2))\n",
    "        else:\n",
    "            fre_res.append(0)\n",
    "    continent_month_dict[continent][month] = list(fre_res)\n",
    "\n",
    "for continent in tqdm(continent_month_dict):\n",
    "    print(continent)\n",
    "    months = []\n",
    "    heatmap_data = []\n",
    "    sorted_continent_dict = sorted(continent_month_dict[continent].items(), key=lambda x: x[0]) \n",
    "    for month_data in sorted_continent_dict:\n",
    "        print(month_data[0])\n",
    "        month = month_data[0]\n",
    "        months.append(month)\n",
    "        heatmap_data.append(list(month_data[1]))\n",
    "        print(len(month_data[1]))\n",
    "        # months.append(month)\n",
    "        # 进行热点图作图\n",
    "    print(\"Start drawing\")\n",
    "    heatmap_data = np.array(heatmap_data)\n",
    "    heatmap_data1 = np.array(heatmap_data[:,0:5000])\n",
    "    heatmap_data2 = np.array(heatmap_data[:,5000:10000])\n",
    "    heatmap_data3 = np.array(heatmap_data[:,10000:15000])\n",
    "    heatmap_data4 = np.array(heatmap_data[:,15000:20000])\n",
    "    heatmap_data5 = np.array(heatmap_data[:,20000:25000])\n",
    "    heatmap_data6 = np.array(heatmap_data[:,25000:])\n",
    "\n",
    "    heatmap_data_dict = {\n",
    "    0:heatmap_data1,\n",
    "    1:heatmap_data2,\n",
    "    2:heatmap_data3,\n",
    "    3:heatmap_data4,\n",
    "    4:heatmap_data5,\n",
    "    5:heatmap_data6,\n",
    "}\n",
    "\n",
    "    for i in range(6):\n",
    "        plt.figure(figsize=(45,10))\n",
    "        grid = plt.GridSpec(10, 45, hspace=0.8, right = 0.8)\n",
    "        plt.subplot(grid[0:9,0:44])\n",
    "        ax = sns.heatmap(heatmap_data_dict[i], cmap=\"PuRd\", yticklabels=months, vmin=0,vmax=0.05, cbar=False)\n",
    "        plt.xticks(ticks = [1,1000, 2000, 3000, 4000,5000],labels=[1+i*5000,1000+i*5000, 2000+i*5000, 3000+i*5000, 4000+i*5000,(1+i)*5000]) \n",
    "        ax.set_xticklabels(labels=[1+i*5000,1000+i*5000, 2000+i*5000, 3000+i*5000, 4000+i*5000,(1+i)*5000],fontsize=32, fontproperties=en_font)\n",
    "        ax.set_yticklabels(labels=months, fontsize=32, fontproperties=en_font)\n",
    "        ax.tick_params(top=True, bottom=False,\n",
    "                       labeltop=True, labelbottom=False, labelsize=32)\n",
    "        plt.setp(ax.get_xticklabels(), rotation=-0, ha=\"right\",\n",
    "                 rotation_mode=\"anchor\")\n",
    "        plt.setp(ax.get_yticklabels(), rotation=0, ha=\"right\",\n",
    "                 rotation_mode=\"anchor\")\n",
    "        ax = plt.subplot(grid[0:9, 44:])\n",
    "        # cb=ax.figure.colorbar(ax.collections[0]) #显示colorbar\n",
    "        # cb.ax.tick_params(labelsize=32) #设置colorbar刻度字体大小\n",
    "        norm = mpl.colors.Normalize(vmin=0, vmax=0.05)\n",
    "        cb = plt.colorbar(\n",
    "            mpl.cm.ScalarMappable(norm=norm, cmap=\"PuRd\"),\n",
    "            cax=ax,\n",
    "            ticks=[0,0.01, 0.02, 0.03, 0.04,0.05]\n",
    "        )\n",
    "        cb.ax.tick_params(labelsize=32)\n",
    "        plt.savefig(\n",
    "        scatter_figures_output + \"mutation_region-{}-{}.png\".format(continent, i+1), bbox_inches=\"tight\",dpi=500)\n",
    "        plt.close()\n",
    "\n",
    "\n",
    "    # plt.figure(figsize=(45,10))\n",
    "    # grid = plt.GridSpec(10, 45, hspace=0.8, right = 0.8)\n",
    "    # plt.subplot(grid[0:9,0:44])\n",
    "    # ax = sns.heatmap(heatmap_data1, cmap=\"PuRd\", yticklabels=months, vmin=0,vmax=0.05, cbar=False)\n",
    "    # # plt.xticks(ticks = [1,2500, 5000, 7500, 10000],labels=[1,2500, 5000, 7500, 10000]) \n",
    "    # plt.xticks(ticks = [1,500, 1000, 1500, 2000,2500, 5000],labels=[1,500, 1000, 1500, 2000,2500, 5000]) \n",
    "    # ax.set_xticklabels(labels=[1,500, 1000, 1500, 2000,2500, 5000],fontsize=32, fontproperties=en_font)\n",
    "    # ax.set_yticklabels(labels=months, fontsize=32, fontproperties=en_font)\n",
    "    # ax.tick_params(top=True, bottom=False,\n",
    "    #                labeltop=True, labelbottom=False, labelsize=32)\n",
    "    # plt.setp(ax.get_xticklabels(), rotation=-0, ha=\"right\",\n",
    "    #          rotation_mode=\"anchor\")\n",
    "    # plt.setp(ax.get_yticklabels(), rotation=0, ha=\"right\",\n",
    "    #          rotation_mode=\"anchor\")\n",
    "    \n",
    "    # ax = plt.subplot(grid[0:9, 44:])\n",
    "    # # cb=ax.figure.colorbar(ax.collections[0]) #显示colorbar\n",
    "    # # cb.ax.tick_params(labelsize=32) #设置colorbar刻度字体大小\n",
    "    # norm = mpl.colors.Normalize(vmin=0, vmax=0.05)\n",
    "    # cb = plt.colorbar(\n",
    "    #     mpl.cm.ScalarMappable(norm=norm, cmap=\"PuRd\"),\n",
    "    #     cax=ax,\n",
    "    #     ticks=[0,0.01, 0.02, 0.03, 0.04,0.05]\n",
    "    # )\n",
    "    # cb.ax.tick_params(labelsize=32)\n",
    "    \n",
    "    # ax = plt.subplot(grid[9,0:44])\n",
    "    # cmap = mpl.colors.ListedColormap(colors_1)\n",
    "    # norm = mpl.colors.BoundaryNorm(bounds_1, cmap.N)\n",
    "    # cbar = plt.colorbar(\n",
    "    #     mpl.cm.ScalarMappable(cmap=cmap, norm=norm),\n",
    "    #     cax=ax,\n",
    "    #     ticks=[241, 266, 3037, 10000],\n",
    "    #     spacing='proportional',\n",
    "    #     orientation='horizontal',\n",
    "    # )\n",
    "    # cbar.outline.set_visible(False)\n",
    "    # cbar.ax.tick_params(labelsize=32)\n",
    "\n",
    "    # plt.savefig(\n",
    "    #     scatter_figures_output + \"mutation_region-{}-1.png\".format(continent), bbox_inches=\"tight\")\n",
    "    # plt.close()\n",
    "\n",
    "    # # plt.figure(figsize=(45,10))\n",
    "    # grid = plt.GridSpec(10, 45, hspace=0.8, right = 0.8)\n",
    "    # plt.subplot(grid[0:9,0:44])\n",
    "    # ax = sns.heatmap(heatmap_data2, cmap=\"PuRd\", yticklabels=months, vmin=0,vmax=0.05, cbar=False)\n",
    "    # plt.xticks(ticks = [1,2500, 5000, 7500, 10000],labels=[10001,12500, 15000, 17500, 20000]) \n",
    "    # ax.set_xticklabels(labels=[10001,12500, 15000, 17500, 20000],fontsize=32, fontproperties=en_font)\n",
    "    # ax.set_yticklabels(labels=months, fontsize=32, fontproperties=en_font)\n",
    "    # ax.tick_params(top=True, bottom=False,\n",
    "    #                labeltop=True, labelbottom=False, labelsize=32)\n",
    "    # plt.setp(ax.get_xticklabels(), rotation=-0, ha=\"right\",\n",
    "    #          rotation_mode=\"anchor\")\n",
    "    # plt.setp(ax.get_yticklabels(), rotation=0, ha=\"right\",\n",
    "    #          rotation_mode=\"anchor\")\n",
    "    \n",
    "    # ax = plt.subplot(grid[0:9, 44:])\n",
    "    # # cb=ax.figure.colorbar(ax.collections[0]) #显示colorbar\n",
    "    # # cb.ax.tick_params(labelsize=32) #设置colorbar刻度字体大小\n",
    "    # norm = mpl.colors.Normalize(vmin=0, vmax=0.05)\n",
    "    # cb = plt.colorbar(\n",
    "    #     mpl.cm.ScalarMappable(norm=norm, cmap=\"PuRd\"),\n",
    "    #     cax=ax,\n",
    "    #     ticks=[0,0.01, 0.02, 0.03, 0.04,0.05]\n",
    "    # )\n",
    "    # cb.ax.tick_params(labelsize=32)\n",
    "    \n",
    "    # ax = plt.subplot(grid[9,0:44])\n",
    "    # cmap = mpl.colors.ListedColormap(colors_2)\n",
    "    # norm = mpl.colors.BoundaryNorm(bounds_2, cmap.N)\n",
    "    # cbar = plt.colorbar(\n",
    "    #     mpl.cm.ScalarMappable(cmap=cmap, norm=norm),\n",
    "    #     cax=ax,\n",
    "    #     ticks=[3468, 4408, 10000],\n",
    "    #     label=[13468, 14408, 20000],\n",
    "    #     spacing='proportional',\n",
    "    #     orientation='horizontal',\n",
    "    # )\n",
    "    # cbar.outline.set_visible(False)\n",
    "    # cbar.ax.tick_params(labelsize=32)\n",
    "\n",
    "    # plt.savefig(\n",
    "    #     scatter_figures_output + \"mutation_region-{}-2.png\".format(continent), bbox_inches=\"tight\")\n",
    "    # plt.close()\n",
    "\n",
    "\n",
    "    # plt.figure(figsize=(45,9))\n",
    "    # ax = sns.heatmap(heatmap_data2, cmap=\"PuRd\", yticklabels=months, vmin=0,vmax=0.05, cbar=False)\n",
    "    # plt.xticks(ticks = [1,2500, 5000, 7500, 9903],labels=[20001,22500, 25000, 27500, 29903]) \n",
    "    # ax.set_xticklabels(labels=[20001,22500, 25000, 27500, 29903],fontsize=32, fontproperties=en_font)\n",
    "    # ax.set_yticklabels(labels=months, fontsize=32, fontproperties=en_font)\n",
    "    # ax.tick_params(top=True, bottom=False,\n",
    "    #                labeltop=True, labelbottom=False, labelsize=32)\n",
    "    # plt.setp(ax.get_xticklabels(), rotation=-0, ha=\"right\",\n",
    "    #          rotation_mode=\"anchor\")\n",
    "    # plt.setp(ax.get_yticklabels(), rotation=0, ha=\"right\",\n",
    "    #          rotation_mode=\"anchor\")\n",
    "    # cb=ax.figure.colorbar(ax.collections[0]) #显示colorbar\n",
    "    # cb.ax.tick_params(labelsize=32) #设置colorbar刻度字体大小\n",
    "    # plt.savefig(\n",
    "    #     scatter_figures_output + \"mutation_region-{}-3.png\".format(continent), bbox_inches=\"tight\")\n",
    "    # plt.close()"
   ]
  },
  {
   "cell_type": "code",
   "execution_count": 52,
   "id": "c56e5324-0ef9-4b74-b58f-cb5cc32f022c",
   "metadata": {},
   "outputs": [
    {
     "name": "stdout",
     "output_type": "stream",
     "text": [
      "done\n"
     ]
    }
   ],
   "source": [
    "print(\"done\")"
   ]
  },
  {
   "cell_type": "code",
   "execution_count": 48,
   "id": "d35a0773-af52-4326-95fd-b2814138d268",
   "metadata": {},
   "outputs": [],
   "source": [
    "img = Image.open(scatter_figures_output + \"mutation_region-{}-{}.png\".format(continent, i+1))"
   ]
  },
  {
   "cell_type": "code",
   "execution_count": 49,
   "id": "0801e430-0a7d-4c80-892a-c5866117d07e",
   "metadata": {},
   "outputs": [
    {
     "data": {
      "text/plain": [
       "(2378, 556)"
      ]
     },
     "execution_count": 49,
     "metadata": {},
     "output_type": "execute_result"
    }
   ],
   "source": [
    "img.size"
   ]
  },
  {
   "cell_type": "code",
   "execution_count": 50,
   "id": "56391724-ae63-41b4-bf92-075adfa515f4",
   "metadata": {},
   "outputs": [
    {
     "data": {
      "image/png": "[encoded data removed]",
      "text/plain": [
       "<PIL.PngImagePlugin.PngImageFile image mode=RGBA size=2378x556 at 0x7FE4C2439A00>"
      ]
     },
     "execution_count": 50,
     "metadata": {},
     "output_type": "execute_result"
    }
   ],
   "source": [
    "img"
   ]
  },
  {
   "cell_type": "code",
   "execution_count": null,
   "id": "747a8a1b-d79b-42a3-a1a6-fd8e46031cb2",
   "metadata": {},
   "outputs": [],
   "source": []
  }
 ],
 "metadata": {
  "kernelspec": {
   "display_name": "Python 3 (ipykernel)",
   "language": "python",
   "name": "python3"
  },
  "language_info": {
   "codemirror_mode": {
    "name": "ipython",
    "version": 3
   },
   "file_extension": ".py",
   "mimetype": "text/x-python",
   "name": "python",
   "nbconvert_exporter": "python",
   "pygments_lexer": "ipython3",
   "version": "3.9.7"
  }
 },
 "nbformat": 4,
 "nbformat_minor": 5
}
